{
 "cells": [
  {
   "cell_type": "code",
   "execution_count": null,
   "metadata": {},
   "outputs": [],
   "source": [
    "git clone --depth 1 --branch v11.2 https://github.com/NVIDIA/cuda-samples.git"
   ]
  },
  {
   "cell_type": "code",
   "execution_count": null,
   "metadata": {},
   "outputs": [],
   "source": [
    "!chmod 770 ./cuda-samples/bin/x86_64/linux/release/p2pBandwidthLatencyTest"
   ]
  },
  {
   "cell_type": "code",
   "execution_count": null,
   "metadata": {},
   "outputs": [],
   "source": [
    "!./cuda-samples/bin/x86_64/linux/release/p2pBandwidthLatencyTest"
   ]
  },
  {
   "cell_type": "code",
   "execution_count": null,
   "metadata": {},
   "outputs": [],
   "source": [
    "import os\n",
    "envname='NCCL_SOCKET_IFNAME'\n",
    "# envname='NCCL_DEBUG'\n",
    "print(os.environ.get(envname)) "
   ]
  },
  {
   "cell_type": "code",
   "execution_count": null,
   "metadata": {},
   "outputs": [],
   "source": [
    "import torch\n",
    "print(torch.__version__)"
   ]
  },
  {
   "cell_type": "code",
   "execution_count": null,
   "metadata": {},
   "outputs": [],
   "source": [
    "!nvcc --version"
   ]
  },
  {
   "cell_type": "code",
   "execution_count": null,
   "metadata": {},
   "outputs": [],
   "source": [
    "!nvidia-smi"
   ]
  },
  {
   "cell_type": "code",
   "execution_count": null,
   "metadata": {},
   "outputs": [],
   "source": [
    "import os\n",
    "\n",
    "os.environ['MY_API_KEY'] = 'your-api-key-here'\n",
    "\n",
    "# Access the environment variable later in your code\n",
    "api_key = os.environ['MY_API_KEY']"
   ]
  },
  {
   "cell_type": "code",
   "execution_count": null,
   "metadata": {},
   "outputs": [],
   "source": [
    "%%writefile ./minGPT/minGPT/runSlurmStep3.sh\n",
    "#!/bin/bash\n",
    "#SBATCH --job-name=dli_assessment_step3\n",
    "#SBATCH --nodes=2\n",
    "#SBATCH --ntasks-per-node=1       \n",
    "#SBATCH --cpus-per-task=32 ### Number of threads per task (OMP threads)\n",
    "#SBATCH -o /dli/megatron/logs/%j.out\n",
    "#SBATCH -e /dli/megatron/logs/%j.err\n",
    "\n",
    "# Number of nodes\n",
    "NUM_NODES=2\n",
    "# Number of GPUs per node\n",
    "NUM_GPUS=2\n",
    "\n",
    "deepspeed --num_nodes=${NUM_NODES} --hostfile /dli/minGPT/minGPT/hostfile --num_gpus=${NUM_GPUS} /dli/minGPT/minGPT/runFirstDeepSpeed.py \\\n",
    "    --deepspeed \\\n",
    "    --deepspeed_config minGPT/minGPT/ds_config_basic.json"
   ]
  },
  {
   "cell_type": "markdown",
   "metadata": {},
   "source": [
    "Found an error with !sbatch ./minGPT/minGPT/runSlurmStep3.sh\n",
    "The script wont run the command below gives an error"
   ]
  },
  {
   "cell_type": "code",
   "execution_count": null,
   "metadata": {},
   "outputs": [],
   "source": [
    "!deepspeed --num_nodes=2 --hostfile /dli/minGPT/minGPT/hostfile --num_gpus=2 /dli/minGPT/minGPT/runFirstDeepSpeed.py --deepspeed --deepspeed_config minGPT/minGPT/ds_config_basic.json"
   ]
  },
  {
   "cell_type": "code",
   "execution_count": null,
   "metadata": {},
   "outputs": [],
   "source": [
    "[2024-06-08 22:47:15,508] [INFO] [runner.py:378:main] Using IP address of 172.18.0.5 for node slurmnode1\n",
    "Traceback (most recent call last):\n",
    "  File \"/opt/conda/bin/deepspeed\", line 6, in <module>\n",
    "    main()\n",
    "  File \"/opt/conda/lib/python3.8/site-packages/deepspeed/launcher/runner.py\", line 434, in main\n",
    "    raise RuntimeError(f\"launcher '{args.launcher}' not installed.\")\n",
    "RuntimeError: launcher 'pdsh' not installed."
   ]
  }
 ],
 "metadata": {
  "language_info": {
   "name": "python"
  }
 },
 "nbformat": 4,
 "nbformat_minor": 2
}

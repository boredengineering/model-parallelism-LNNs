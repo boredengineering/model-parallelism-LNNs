{
 "cells": [
  {
   "cell_type": "code",
   "execution_count": null,
   "metadata": {},
   "outputs": [],
   "source": [
    "%%writefile /dli/code/test_sbatch.sbatch\n",
    "#!/bin/bash\n",
    "\n",
    "#SBATCH -N 2\n",
    "#SBATCH --job-name=dli_firstSlurmJob\n",
    "#SBATCH -o /dli/megatron/logs/%j.out\n",
    "#SBATCH -e /dli/megatron/logs/%j.err\n",
    "\n",
    "srun -l /dli/code/test.sh  "
   ]
  },
  {
   "cell_type": "code",
   "execution_count": null,
   "metadata": {},
   "outputs": [],
   "source": [
    "# submit the job\n",
    "! sbatch /dli/code/test_sbatch.sbatch\n",
    "\n",
    "# Get the JOBID \n",
    "JOBID=!squeue -u admin | grep dli | awk '{print $1}'\n",
    "slurm_job_output='/dli/megatron/logs/'+JOBID[0]+'.out'\n",
    "\n",
    "# check the jobs in the SLURM scheduling queue\n",
    "! squeue"
   ]
  },
  {
   "cell_type": "code",
   "execution_count": null,
   "metadata": {},
   "outputs": [],
   "source": [
    "# Wait 3 seconds the job to execute and get the populated logs \n",
    "! sleep 3\n",
    "\n",
    "# Check the execution logs \n",
    "! cat $slurm_job_output"
   ]
  }
 ],
 "metadata": {
  "kernelspec": {
   "display_name": "Python 3",
   "language": "python",
   "name": "python3"
  },
  "language_info": {
   "codemirror_mode": {
    "name": "ipython",
    "version": 3
   },
   "file_extension": ".py",
   "mimetype": "text/x-python",
   "name": "python",
   "nbconvert_exporter": "python",
   "pygments_lexer": "ipython3",
   "version": "3.8.5"
  }
 },
 "nbformat": 4,
 "nbformat_minor": 4
}

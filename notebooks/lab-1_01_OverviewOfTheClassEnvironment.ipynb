{
 "cells": [
  {
   "cell_type": "markdown",
   "metadata": {},
   "source": [
    "<img src=\"./images/DLI_Header.png\" style=\"width: 400px;\">"
   ]
  },
  {
   "cell_type": "markdown",
   "metadata": {},
   "source": [
    "# 1.0 Overview of the Class Environment\n",
    "\n",
    "This notebook will introduce the basic knowledge of using AI clusters. You will have an overview of the Class Environment configured as an AI compute cluster. In addition, you will experiment with basic commands of the [SLURM cluster management](https://slurm.schedmd.com/overview.html)."
   ]
  },
  {
   "cell_type": "markdown",
   "metadata": {},
   "source": [
    "### Learning Objectives\n",
    "\n",
    "The goals of this notebook are to:\n",
    "* Understand the hardware configuration available for the class\n",
    "* Understand the basics commands for jobs submissions with SLURM\n",
    "* Run simple test scripts allocating different GPU resources\n",
    "* Connect interactively to a compute node and observe available resources\n",
    "\n",
    "**[1.1 The Hardware Configuration Overview](#1.1-The-Hardware-Configuration-Overview)<br>**\n",
    "&nbsp;&nbsp;&nbsp;&nbsp;[1.1.1 Check The Available CPUs](#1.1.1-Check-The-Available-CPUs)<br>\n",
    "&nbsp;&nbsp;&nbsp;&nbsp;[1.1.2 Check the Available GPUs](#1.1.2-Check-The-Available-GPUs)<br>\n",
    "&nbsp;&nbsp;&nbsp;&nbsp;[1.1.3 Check The Interconnect Topology](#1.1.3-Check-The-Interconnect-Topology)<br>\n",
    "&nbsp;&nbsp;&nbsp;&nbsp;[1.1.4 Bandwidth & Connectivity Tests](#1.1.4-Bandwidth-and-Connectivity-Tests)<br>\n",
    "**[1.2 Basic SLURM Commands](#1.2-Basic-SLURM-Commands)<br>**\n",
    "&nbsp;&nbsp;&nbsp;&nbsp;[1.2.1 Check the SLURM Configuration](#1.2.1-Check-the-SLURM-Configuration)<br>\n",
    "&nbsp;&nbsp;&nbsp;&nbsp;[1.2.2 Submit Jobs Using SRUN Command](#1.2.2-Submit-jobs-using-SRUN-Command)<br>\n",
    "&nbsp;&nbsp;&nbsp;&nbsp;[1.2.3 Submit Jobs Using SBATCH Command](#1.2.3-Submit-jobs-using-SBATCH-Command])<br>\n",
    "&nbsp;&nbsp;&nbsp;&nbsp;[1.2.4 Exercise: Submit Jobs Using SBATCH Command Requesting More Resources](#1.2.4-Exercise-Submit-jobs-using-SBATCH-Command])<br>\n",
    "**[1.3 Run Interactive Sessions](#1.3-Run-Interactive-Sessions)<br>**"
   ]
  },
  {
   "cell_type": "markdown",
   "metadata": {},
   "source": [
    "---\n",
    "# 1.1 The Hardware Configuration Overview\n",
    "\n",
    "\n",
    "A modern AI cluster is a type of infrastructure designed for optimal Deep Learning model development. NVIDIA has designed DGXs servers as a full-stack solution for scalable AI development. Click the link to learn more about [DGX systems](https://www.nvidia.com/en-gb/data-center/dgx-systems/).\n",
    "\n",
    "In this lab, in terms of GPU and networking hardware resources, each class environment is configured to access about half the resources of a DGX-1 server system (4 V100 GPUs, 4 NVlinks per GPU).\n",
    "\n",
    "<img  src=\"images/nvlink_v2.png\" width=\"600\"/>\n",
    "\n",
    "The hardware for this class has already been configured as a GPU cluster unit for Deep Learning. The cluster is organized as compute units (nodes) that can be allocated using a Cluster Manager (example SLURM). Among the hardware components, the cluster includes CPUs (Central Processing Units), GPUs (Graphics Processing Units), storage and networking.\n",
    "\n",
    "Let's look at the GPUs, CPUs and network design available in this class."
   ]
  },
  {
   "cell_type": "markdown",
   "metadata": {},
   "source": [
    "## 1.1.1 Check The Available CPUs \n",
    "\n",
    "We can check the CPU information of the system using the `lscpu` command. \n",
    "\n",
    "This example of outputs shows that there are 16 CPU cores of the `x86_64` from Intel.\n",
    "```\n",
    "Architecture:                    x86_64\n",
    "Core(s) per socket:              16\n",
    "Model name:                      Intel(R) Xeon(R) CPU E5-2686 v4 @ 2.30GHz\n",
    "```\n",
    "For a complete description of the CPU processor architecture, check the `/proc/cpuinfo` file.\n"
   ]
  },
  {
   "cell_type": "code",
   "execution_count": null,
   "metadata": {},
   "outputs": [],
   "source": [
    "# Display information CPUs\n",
    "!lscpu"
   ]
  },
  {
   "cell_type": "code",
   "execution_count": null,
   "metadata": {},
   "outputs": [],
   "source": [
    "# Check the number of CPU cores\n",
    "!grep 'cpu cores' /proc/cpuinfo | uniq"
   ]
  },
  {
   "cell_type": "markdown",
   "metadata": {},
   "source": [
    "## 1.1.2 Check The Available  GPUs \n",
    "\n",
    "The NVIDIA System Management Interface `nvidia-smi` is a command for monitoring NVIDIA GPU devices. Several key details are listed such as the CUDA and  GPU driver versions, the number and type of GPUs available, the GPU memory each, running GPU process, etc.\n",
    "\n",
    "In the following example, `nvidia-smi` command shows that there are 4 Tesla V100-SXM2 GPUs (ID 0-3), each with 16GB of memory. \n",
    "\n",
    "<img  src=\"images/nvidia_smi.png\" width=\"600\"/>\n",
    "\n",
    "For more details, refer to the [nvidia-smi documentation](https://developer.download.nvidia.com/compute/DCGM/docs/nvidia-smi-367.38.pdf)."
   ]
  },
  {
   "cell_type": "code",
   "execution_count": null,
   "metadata": {},
   "outputs": [],
   "source": [
    "# Display information about GPUs\n",
    "!nvidia-smi"
   ]
  },
  {
   "cell_type": "markdown",
   "metadata": {},
   "source": [
    "## 1.1.3 Check The Available Interconnect Topology \n",
    "\n",
    "\n",
    "\n",
    "<img  align=\"right\" src=\"images/nvlink_nvidia.png\" width=\"420\"/>\n",
    "\n",
    "The multi-GPU system configuration needs a fast and scalable interconnect. [NVIDIA NVLink technology](https://www.nvidia.com/en-us/data-center/nvlink/) is a direct GPU-to-GPU interconnect providing high bandwidth and improving scalability for multi-GPU systems.\n",
    "\n",
    "To check the available interconnect topology, we can use `nvidia-smi topo --matrix` command. In this class, we should get 4 NVLinks per GPU device. \n",
    "\n",
    "```\n",
    "        GPU0    GPU1    GPU2    GPU3    CPU Affinity    NUMA Affinity\n",
    "GPU0     X      NV12    SYS     SYS     0-23            N/A\n",
    "GPU1    NV12     X      SYS     SYS     24-47           N/A\n",
    "GPU2    SYS     SYS      X      NV12    48-71           N/A\n",
    "GPU3    SYS     SYS     NV12     X      72-95           N/A\n",
    "\n",
    "Where X= Self and NV# = Connection traversing a bonded set of # NVLinks\n",
    "```\n",
    "\n",
    "In this environment, notice only 1 link between GPU0 and GPU1, GPU2 while 2 links are shown between GPU0 and GPU3."
   ]
  },
  {
   "cell_type": "code",
   "execution_count": null,
   "metadata": {},
   "outputs": [],
   "source": [
    "# Check Interconnect Topology \n",
    "!nvidia-smi topo --matrix"
   ]
  },
  {
   "cell_type": "markdown",
   "metadata": {},
   "source": [
    "It is also possible to check the NVLink status and bandwidth using `nvidia-smi nvlink --status` command. You should see similar outputs per device.\n",
    "```\n",
    "GPU 0: Graphics Device\n",
    "\t Link 0: 25 GB/s\n",
    "\t Link 1: 25 GB/s\n",
    "\t Link 2: 25 GB/s\n",
    "\t Link 3: 25 GB/s\n",
    "```"
   ]
  },
  {
   "cell_type": "code",
   "execution_count": null,
   "metadata": {},
   "outputs": [],
   "source": [
    "# Check nvlink status\n",
    "!nvidia-smi nvlink --status"
   ]
  },
  {
   "cell_type": "markdown",
   "metadata": {},
   "source": [
    "## 1.1.4 Bandwidth & Connectivity Tests\n",
    "\n",
    "\n",
    "NVIDIA provides an application **p2pBandwidthLatencyTest** that demonstrates CUDA Peer-To-Peer (P2P) data transfers between pairs of GPUs by computing bandwidth and latency while enabling and disabling NVLinks. This tool is part of the code samples for CUDA Developers [cuda-samples](https://github.com/NVIDIA/cuda-samples.git). \n",
    "\n",
    "Example outputs are shown below. Notice the Device to Device (D\\D) bandwidth differences when enabling and disabling NVLinks (P2P).\n",
    "\n",
    "```\n",
    "Bidirectional P2P=Enabled Bandwidth Matrix (GB/s)\n",
    "   D\\D     0      1      2      3 \n",
    "     0 1529.61 516.36  20.75  21.54 \n",
    "     1 517.04 1525.88  20.63  21.33 \n",
    "     2  20.32  20.17 1532.61 517.23 \n",
    "     3  20.95  20.83 517.98 1532.61 \n",
    "\n",
    "Bidirectional P2P=Disabled Bandwidth Matrix (GB/s)\n",
    "   D\\D     0      1      2      3 \n",
    "     0 1532.61  18.09  20.79  21.52 \n",
    "     1  18.11 1531.11  20.65  21.33 \n",
    "     2  20.32  20.17 1528.12  28.89 \n",
    "     3  20.97  20.82  28.36 1531.11 \n",
    "```\n"
   ]
  },
  {
   "cell_type": "code",
   "execution_count": null,
   "metadata": {},
   "outputs": [],
   "source": [
    "# Tests on GPU pairs using P2P and without P2P \n",
    "#`git clone --depth 1 --branch v11.2 https://github.com/NVIDIA/cuda-samples.git`\n",
    "!/dli/cuda-samples/bin/x86_64/linux/release/p2pBandwidthLatencyTest"
   ]
  },
  {
   "cell_type": "markdown",
   "metadata": {},
   "source": [
    "---\n",
    "# 1.2 Basic SLURM Commands"
   ]
  },
  {
   "cell_type": "markdown",
   "metadata": {},
   "source": [
    "Now that we've seen how GPUs can communicate with each other over NVLink, let's go over how the hardware resources can be organized into compute nodes. These nodes can be managed by Cluster Manager such as [*Slurm Workload Manager*](https://slurm.schedmd.com/), an open source cluster management and job scheduler system for large and small Linux clusters. \n",
    "\n",
    "\n",
    "For this lab, we have configured a SLURM manager where the 4 available GPUs are partitioned into 2 nodes: **slurmnode1** \n",
    "and **slurmnode2**, each with 2 GPUs. \n",
    "\n",
    "Next, let's see some basic SLURM commands. More SLURM commands can be found in the [SLURM official documentation](https://slurm.schedmd.com/).\n",
    "\n",
    "<img src=\"images/cluster_overview.png\" width=\"500\"/>"
   ]
  },
  {
   "cell_type": "markdown",
   "metadata": {},
   "source": [
    "## 1.2.1 Check the SLURM Configuration\n",
    "\n",
    "We can check the available resources in the SLURM cluster by running `sinfo`. The output will show that there are 2 nodes in the cluster **slurmnode1** and **slurmnode2**. Both nodes are currently idle."
   ]
  },
  {
   "cell_type": "code",
   "execution_count": null,
   "metadata": {},
   "outputs": [],
   "source": [
    "# Check available resources in the cluster\n",
    "!sinfo"
   ]
  },
  {
   "cell_type": "markdown",
   "metadata": {},
   "source": [
    "##  1.2.2 Submit Jobs Using `srun` Command\n",
    "\n",
    "The `srun` command allows to running parallel jobs. \n",
    "\n",
    "The argument **-N** (or *--nodes*) can be used to specify the nodes allocated to a job. It is also possible to allocate a subset of GPUs available within a node by specifying the argument **-G (or --gpus)**.\n",
    "\n",
    "Check out the [SLURM official documentation](https://slurm.schedmd.com/) for more arguments.\n",
    "\n",
    "To test running parallel jobs, let's submit a job that requests 1 node (2 GPUs) and run a simple command on it: `nvidia-smi`. We should see the output of 2 GPUs available in the allocated node."
   ]
  },
  {
   "cell_type": "code",
   "execution_count": null,
   "metadata": {},
   "outputs": [],
   "source": [
    "# run nvidia-smi slurm job with 1 node allocation\n",
    "!srun -N 1 nvidia-smi"
   ]
  },
  {
   "cell_type": "markdown",
   "metadata": {},
   "source": [
    "Great! Let's now allocate 2 nodes and run again `nvidia-smi` command.\n",
    "\n",
    "We should see the results of both nodes showing the available GPU devices. Notce that the stdout might be scrumbled due to the asynchronous and parallel execution of `nvidia-smi` command in the two nodes."
   ]
  },
  {
   "cell_type": "code",
   "execution_count": null,
   "metadata": {},
   "outputs": [],
   "source": [
    "# run nvidia-smi slurm job with 2 node allocation.\n",
    "!srun -N 2 nvidia-smi"
   ]
  },
  {
   "cell_type": "markdown",
   "metadata": {},
   "source": [
    "## 1.2.3 Submit Jobs Using `sbatch` Command \n",
    "\n",
    "In the previous examples, we allocated resources to run one single command. For more complex jobs, the `sbatch` command allows submitting batch scripts to SLURM by specifying the resources and all environment variables required for executing the job. `sbatch` will transfer the execution to the SLURM Manager after automatically populating the arguments.\n",
    "\n",
    "In the batch script below, `#SBATCH ...` is used to specify resources and other options relating to the job to be executed:\n",
    "\n",
    "```\n",
    "        #!/bin/bash\n",
    "        #SBATCH -N 1                               # Node count to be allocated for the job\n",
    "        #SBATCH --job-name=dli_firstSlurmJob       # Job name\n",
    "        #SBATCH -o /dli/megatron/logs/%j.out       # Outputs log file \n",
    "        #SBATCH -e /dli/megatron/logs/%j.err       # Errors log file\n",
    "\n",
    "        srun -l my_script.sh                       # my SLURM script \n",
    "```"
   ]
  },
  {
   "cell_type": "markdown",
   "metadata": {},
   "source": [
    "Before we submit the `sbatch` batch script, let's first prepare a job that will be executed: a short batch script that will sleep for 2 seconds before running the `nvidia-smi` command."
   ]
  },
  {
   "cell_type": "code",
   "execution_count": null,
   "metadata": {},
   "outputs": [],
   "source": [
    "!chmod +x /dli/code/test.sh\n",
    "# Check the batch script \n",
    "!cat /dli/code/test.sh"
   ]
  },
  {
   "cell_type": "markdown",
   "metadata": {},
   "source": [
    "To submit this batch script job, let's create an `sbatch` script that initiates the resources to be allocated and submits the test.sh job.\n",
    "\n",
    "The following cell will edit the `test_sbatch.sbatch` script allocating 1 node."
   ]
  },
  {
   "cell_type": "code",
   "execution_count": null,
   "metadata": {},
   "outputs": [],
   "source": [
    "%%writefile /dli/code/test_sbatch.sbatch\n",
    "#!/bin/bash\n",
    "\n",
    "#SBATCH -N 1\n",
    "#SBATCH --job-name=dli_firstSlurmJob\n",
    "#SBATCH -o /dli/megatron/logs/%j.out\n",
    "#SBATCH -e /dli/megatron/logs/%j.err\n",
    "\n",
    "srun -l /dli/code/test.sh  "
   ]
  },
  {
   "cell_type": "code",
   "execution_count": null,
   "metadata": {},
   "outputs": [],
   "source": [
    "# Check the sbatch script \n",
    "! cat /dli/code/test_sbatch.sbatch"
   ]
  },
  {
   "cell_type": "markdown",
   "metadata": {},
   "source": [
    "Now let's submit the `sbatch` job and check the SLURM scheduler. The batch script will be queued and executed when the requested resources are available.\n",
    "\n",
    "The `squeue` command shows the running or pending jobs. An output example is shown below: \n",
    "\n",
    "```\n",
    "Submitted batch job **\n",
    "             JOBID PARTITION     NAME     USER ST       TIME  NODES NODELIST(REASON)\n",
    "                **  slurmpar test_sba    admin  R       0:01      1 slurmnode1\n",
    "\n",
    "```\n",
    "\n",
    "It shows the SLURM Job ID, Job's name, the user ID, Job's Status (R=running), running duration and the allocated node name.\n",
    "\n",
    "The following cell submits the `sbatch` job, collects the `JOBID` variable (for querying later the logs) and checks the jobs in the SLURM scheduling queue."
   ]
  },
  {
   "cell_type": "code",
   "execution_count": null,
   "metadata": {},
   "outputs": [],
   "source": [
    "# Submit the job\n",
    "!sbatch /dli/code/test_sbatch.sbatch\n",
    "\n",
    "# Get the JOBID variable\n",
    "JOBID=!squeue -u admin | grep dli | awk '{print $1}'\n",
    "slurm_job_output='/dli/megatron/logs/'+JOBID[0]+'.out'\n",
    "\n",
    "# check the jobs in the SLURM scheduling queue\n",
    "!squeue"
   ]
  },
  {
   "cell_type": "markdown",
   "metadata": {},
   "source": [
    "The output log file for the executed job (**JOBID.out**) is automatically created to gather the outputs.\n",
    "\n",
    "In our case, we should see the results of `nvidia-smi` command that was executed in the `test.sh` script submitted with 1 node allocation. Let's have a look at execution logs:\n"
   ]
  },
  {
   "cell_type": "code",
   "execution_count": null,
   "metadata": {},
   "outputs": [],
   "source": [
    "# Wait 3 seconds to let the job execute and get the populated logs \n",
    "!sleep 3\n",
    "\n",
    "# Check the execution logs \n",
    "!cat $slurm_job_output"
   ]
  },
  {
   "cell_type": "markdown",
   "metadata": {},
   "source": [
    "## 1.2.4  Exercise: Submit Jobs Using `sbatch` Command  Requesting More Resources\n",
    "\n",
    "\n",
    "Using what you have learned, submit the previous `test.sh` batch script with the `sbatch` command on **2 nodes** allocation.\n",
    "\n",
    "To do so, you will need to:\n",
    "1. Modify the `test_sbatch.sbatch` script to allocate 2 Nodes \n",
    "2. Submit the script again using `sbatch` command\n",
    "3. Check the execution logs \n",
    "\n",
    "\n",
    "If you get stuck, you can look at the [solution](solutions/ex1.2.4.ipynb)."
   ]
  },
  {
   "cell_type": "code",
   "execution_count": null,
   "metadata": {},
   "outputs": [],
   "source": [
    "# 1. Modify the `test_sbatch.sbatch` script to allocate 2 Nodes"
   ]
  },
  {
   "cell_type": "code",
   "execution_count": null,
   "metadata": {},
   "outputs": [],
   "source": [
    "# 2. Submit the script again using `sbatch` command"
   ]
  },
  {
   "cell_type": "code",
   "execution_count": null,
   "metadata": {},
   "outputs": [],
   "source": [
    "# 3. Check the execution logs "
   ]
  },
  {
   "cell_type": "markdown",
   "metadata": {},
   "source": [
    "---\n",
    "# 1.3 Run Interactive Sessions \n",
    "\n",
    "Interactive sessions allow to connect directly to a worker node and interact with it through the terminal. \n",
    "\n",
    "The SLURM manager allows to allocate resources in interactive session using the `--pty` argument as follows: `srun -N 1 --pty /bin/bash`. \n",
    "The session is closed when you exit the node or you cancel the interactive session job using the command `scancel JOBID`.\n",
    "\n",
    "\n",
    "Since this is an interactive session, first, we need to launch a terminal window and submit a slurm job allocating resources in interactive mode. To do so, we will need to follow the 3 steps: \n",
    "1. Launch a terminal session\n",
    "2. Check the GPUs resources using the command `nvidia-smi` \n",
    "3. Run an interactive session requesting 1 node by executing `srun -N 1 --pty /bin/bash`\n",
    "4. Check the GPUs resources using the command `nvidia-smi` again \n",
    "\n",
    "Let's run our first interactive job requesting 1 node and check what GPU resources are at our disposal. \n",
    "\n",
    "![title](images/interactive_launch.png)\n",
    "\n",
    "Notice that while connected to the session, the host name as displayed in the command line changes from \"lab\" (login node name) to \"slurmnode1\" indicating that we are now successfully working on a remote worker node.\n",
    "\n",
    "Run the following cell to get a link to open a terminal session and the instructions to run an interactive session."
   ]
  },
  {
   "cell_type": "code",
   "execution_count": null,
   "metadata": {},
   "outputs": [],
   "source": [
    "%%html\n",
    "\n",
    "<pre>\n",
    "   Step 1: Open a terminal session by following this <a href=\"\", data-commandlinker-command=\"terminal:create-new\">Terminal link</a>\n",
    "   Step 2: Check the GPUs resources: <font color=\"green\">nvidia-smi</font>\n",
    "   Step 3: Run an interactive session: <font color=\"green\">srun -N 1 --pty /bin/bash</font>\n",
    "   Step 4: Check the GPUs resources again: <font color=\"green\">nvidia-smi</font>\n",
    "</pre>"
   ]
  },
  {
   "cell_type": "markdown",
   "metadata": {},
   "source": [
    "---\n",
    "<h2 style=\"color:green;\">Congratulations!</h2>\n",
    "\n",
    "You've made it through the first section of the course and are ready to begin training Deep Learning models on multiple GPUs. <br>\n",
    "\n",
    "Before moving on, we need to make sure that no jobs are still running or waiting on the SLURM queue. \n",
    "Let's check the SLURM jobs queue by executing the following cell:"
   ]
  },
  {
   "cell_type": "code",
   "execution_count": null,
   "metadata": {},
   "outputs": [],
   "source": [
    "# Check the SLURM jobs queue \n",
    "!squeue"
   ]
  },
  {
   "cell_type": "markdown",
   "metadata": {},
   "source": [
    "If there are still jobs running or pending, execute the following cell to cancel all the user's jobs using the `scancel` command. "
   ]
  },
  {
   "cell_type": "code",
   "execution_count": null,
   "metadata": {},
   "outputs": [],
   "source": [
    "# Cancel admin user jobs\n",
    "!scancel -u $USER\n",
    "\n",
    "# Check again the SLURM jobs queue (should be either empty, or the status TS column should be CG)\n",
    "!squeue"
   ]
  },
  {
   "cell_type": "markdown",
   "metadata": {},
   "source": [
    "Next, we will be running basic GPT language model training on different distribution configurations. Move on to [02_GPT_LM_pretrainings.ipynb](02_GPT_LM_pretrainings.ipynb)."
   ]
  }
 ],
 "metadata": {
  "kernelspec": {
   "display_name": "Python 3 (ipykernel)",
   "language": "python",
   "name": "python3"
  },
  "language_info": {
   "codemirror_mode": {
    "name": "ipython",
    "version": 3
   },
   "file_extension": ".py",
   "mimetype": "text/x-python",
   "name": "python",
   "nbconvert_exporter": "python",
   "pygments_lexer": "ipython3",
   "version": "3.8.10"
  }
 },
 "nbformat": 4,
 "nbformat_minor": 4
}

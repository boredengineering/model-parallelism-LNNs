{
 "cells": [
  {
   "cell_type": "markdown",
   "id": "1123fe11-ac37-4070-9559-202a36d910e4",
   "metadata": {},
   "source": [
    "<img src=\"./images/DLI_Header.png\" style=\"width: 400px;\">"
   ]
  },
  {
   "cell_type": "markdown",
   "id": "f34d208e-ff07-44f6-b628-b82315c10ba4",
   "metadata": {},
   "source": [
    "# Assessment\n",
    "\n",
    "## Overview\n",
    "\n",
    "The goal of this assessment is to evaluate your ability to build and execute large models. Please demonstrate that ability by porting an existing piece of code into DeepSpeed and creating a series of configuration files to enable a range of DeepSpeed functions including: activation checkpointing, mixed precision training as well as ZeRo redundancy optimizer. \n",
    "\n",
    "To make the task containable, we have deliberately selected a simplified codebase, namely minGPT (https://github.com/karpathy/minGPT). This is a minimalistic implementation of Transformers that will not provide maximum performance, but which is representative and should allow you to complete this coding exercise in a relatively short period of time.\n",
    "\n",
    "In this task, we will look at yet another family of models, namely, Vision Transformers. Before diving into the assignment, please review the [code example](minGPT/minGPT/play_image.ipynb) that we will be using in this assessment. Feel free to execute the above code example but do bear in mind that training to convergence will take a considerable amount of time, so it  might help to finish it early and focus on the code migration discussed below."
   ]
  },
  {
   "cell_type": "markdown",
   "id": "95a9d34b-dead-4d67-aee5-2a1c614f8fe6",
   "metadata": {},
   "source": [
    "## Introduction\n",
    "\n",
    "Conceptually, our goal will be to:\n",
    "- Migrate a standalone pytorch implementation of the training pipeline into DeepSpeed and train effectively on our \"two server\" cluster\n",
    "- Enable functionality that will allow for memory saving, namely: Mixed Precision Training, Activation Checkpointing and ZeRo Redundancy optimiser\n",
    "- Increase the size of the model being trained\n",
    "\n",
    "The below notebook will be a guide through the process and provide test code which will help determine whether you are on the right path to the correct solution. By the end of the assessment, when the code is complete, you will be asked to go back to the lab platform and press the `assess` button. This will trigger an automated process which will load your code files as well as the deepspeed configuration files and execute them, assessing correctness of the implementation. Please leave enough time to execute this step as it can take several minutes to compleate. If you are running out of time, please download the files you have modified so that they can be finished later."
   ]
  },
  {
   "cell_type": "markdown",
   "id": "7acec885",
   "metadata": {},
   "source": [
    "### Hints\n",
    "* There are many different files in this assessment. To help keep track of what needs to be updated, we've placed `FIXME`s in relevant locations. If running a file results in an error, please look for a `FIXME`.\n",
    "* We will be processing a lot of data in this assessment. Please be patient with the hardware, and wait a minute between cancelling and running jobs.\n",
    "* If a clean slate is needed, please restart the server. Please download the following files and upload them in order to resume your work:\n",
    "    * [Assessment.ipynb](./Assessment.ipynb)\n",
    "    * [runFirstDeepSpeed.py](./minGPT/minGPT/runFirstDeepSpeed.py)\n",
    "    * [trainer.py](./minGPT/minGPT/mingpt/trainer.py)\n",
    "    * [model.py](./minGPT/minGPT/mingpt/model.py)\n",
    "    * [runStep5.py](./minGPT/minGPT/runStep5.py)\n",
    "\n",
    "Good luck!"
   ]
  },
  {
   "cell_type": "markdown",
   "id": "9b959719-1fef-4a5a-8454-5babc9c6aa90",
   "metadata": {},
   "source": [
    "## Step 1: Baseline implementation\n",
    "\n",
    "Let us begin by looking at the starting point of our assessment, namely [runStartingPoint.py](./minGPT/minGPT/runStartingPoint.py). This is the same code that was reviewed earlier, just extracted into a python file to allow us for its batch execution. Let us test it to make sure it works in a standalone mode. Once again, training to convergence will take a substantial amount of time, so once you see training progress feel free to stop the training process and move to the next step."
   ]
  },
  {
   "cell_type": "code",
   "execution_count": null,
   "id": "acf98ec2-b1b8-4a6c-b2de-8410ea4562cf",
   "metadata": {
    "scrolled": true,
    "tags": []
   },
   "outputs": [],
   "source": [
    "!python minGPT/minGPT/runStartingPoint.py"
   ]
  },
  {
   "cell_type": "markdown",
   "id": "19ae562f-1b8c-4383-a83d-101983f70ea7",
   "metadata": {},
   "source": [
    "## Step 2: Enabling DeepSpeed\n",
    "\n",
    "Let's start by adapting the previous training scripts to use the DeepSpeed library by making some minimalistic changes in the code. To do so, you will need to:\n",
    "\n",
    "&nbsp; &nbsp; 1.  Modify the relevant sections in [runFirstDeepSpeed.py](./minGPT/minGPT/runFirstDeepSpeed.py)   \n",
    "&nbsp; &nbsp; 2.  Modify the relevant sections in [trainer.py](./minGPT/minGPT/mingpt/trainer.py)   \n",
    "&nbsp; &nbsp; 3.  Create the DeepSpeed configuration file `ds_config_basic.json`   \n",
    "&nbsp; &nbsp; 4.  Run the training with `deepspeed` command\n",
    "\n",
    "\n",
    "### 1.  Modify the \"ToDo Step 2\" sections in the file `runFirstDeepSpeed.py`\n",
    "Open the file [runFirstDeepSpeed.py](./minGPT/minGPT/runFirstDeepSpeed.py) and define the \"ToDo Step 2\" sections to port the code on DeepSpeed. There are 4 sections to be defined.\n",
    "\n",
    "### 2.  Modify the \"ToDo Step 2\" sections in the `trainer.py`\n",
    "Open the file [trainer.py](./minGPT/minGPT/mingpt/trainer.py) and implement the `DeepSpeedTrainer` class by defining the \"ToDo Step 2\" sections. There are 6 sections to be modified/implemented."
   ]
  },
  {
   "cell_type": "markdown",
   "id": "5bba61b3-6626-4ca2-b38c-408dbf57a99f",
   "metadata": {},
   "source": [
    "### 3.  Create the DeepSpeed configuration file `ds_config_basic.json`\n",
    "In the next cell, change the `FIXME` to set:\n",
    "- The micro-batch size per gpu to 8\n",
    "- Make sure to enable Adam optimizer and copy the learning rate from the original code [runStartingPoint.py](./minGPT/minGPT/runStartingPoint.py)\n",
    "- Set the gradient clipping to the value used in the original code [runStartingPoint.py](./minGPT/minGPT/runStartingPoint.py)"
   ]
  },
  {
   "cell_type": "code",
   "execution_count": null,
   "id": "c9eaaaf7-6af1-44d4-8eba-8143e81dcfb3",
   "metadata": {},
   "outputs": [],
   "source": [
    "%%writefile ./minGPT/minGPT/ds_config_basic.json\n",
    "{\n",
    "  \"train_micro_batch_size_per_gpu\": #FIXME,\n",
    "  \"optimizer\": {\n",
    "    \"type\": #FIXME,\n",
    "    \"params\": {\n",
    "      \"lr\": #FIXME\n",
    "    }\n",
    "  },\n",
    "  \"gradient_clipping\": #FIXME\n",
    "}"
   ]
  },
  {
   "cell_type": "markdown",
   "id": "ddc199bd-2670-4878-be02-f65a9273540a",
   "metadata": {},
   "source": [
    "### 4.  Run the training with `deepspeed` command\n",
    "\n",
    "The following command should result in 4 GPU training and we should see the training progress. Once again, the goal of this exercise is not to train this model to convergence. Once you see training taking place, you can interrupt the execution and move to the next step."
   ]
  },
  {
   "cell_type": "code",
   "execution_count": null,
   "id": "8ed7e3b8-820b-4757-b0f0-2d6ad801418f",
   "metadata": {
    "scrolled": true,
    "tags": []
   },
   "outputs": [],
   "source": [
    "!deepspeed minGPT/minGPT/runFirstDeepSpeed.py --deepspeed --deepspeed_config minGPT/minGPT/ds_config_basic.json"
   ]
  },
  {
   "cell_type": "markdown",
   "id": "583ed01e-9ca5-441c-9275-d4573115d1b7",
   "metadata": {},
   "source": [
    "## Step 3: Multi node execution\n",
    "\n",
    "The above code executed on 4 GPUs for this particular node, but our goal is to make it work across the two nodes we have used earlier in the class. Please reuse the code we have worked with earlier to launch a `2` node job executing the above. Let us start by creating the appropriate shell script:"
   ]
  },
  {
   "cell_type": "code",
   "execution_count": null,
   "id": "62ab689f-eb64-4881-a7da-fbf963bd7721",
   "metadata": {},
   "outputs": [],
   "source": [
    "%%writefile ./minGPT/minGPT/runSlurmStep3.sh\n",
    "#!/bin/bash\n",
    "#SBATCH --job-name=dli_assessment_step3\n",
    "#SBATCH --nodes=2\n",
    "#SBATCH --ntasks-per-node=1       \n",
    "#SBATCH --cpus-per-task=32 ### Number of threads per task (OMP threads)\n",
    "#SBATCH -o /dli/megatron/logs/%j.out\n",
    "#SBATCH -e /dli/megatron/logs/%j.err\n",
    "\n",
    "# Number of nodes\n",
    "NUM_NODES=#FIXEME\n",
    "# Number of GPUs per node\n",
    "NUM_GPUS=#FIXEME\n",
    "\n",
    "deepspeed --num_nodes=${NUM_NODES} --hostfile /dli/minGPT/minGPT/hostfile --num_gpus=${NUM_GPUS} /dli/minGPT/minGPT/runFirstDeepSpeed.py \\\n",
    "    --deepspeed \\\n",
    "    --deepspeed_config #FIXEME"
   ]
  },
  {
   "cell_type": "markdown",
   "id": "83193290-4079-4a9d-a1b0-17f939b45d29",
   "metadata": {},
   "source": [
    "Please modify the below to enable multi-node execution. Please use the below command to execute your multi-node job (this is the command that will be used for assessment so do not change the file names or paths)."
   ]
  },
  {
   "cell_type": "code",
   "execution_count": null,
   "id": "7fae3988-8796-4c1c-873a-f4828c90310c",
   "metadata": {},
   "outputs": [],
   "source": [
    "!sbatch ./minGPT/minGPT/runSlurmStep3.sh\n",
    "!squeue"
   ]
  },
  {
   "cell_type": "markdown",
   "id": "a3d3d948-32ac-4043-aa99-1b0ce50108a8",
   "metadata": {},
   "source": [
    "Once the above executes, we should be able to see output and error logs with the commands below. Make sure to copy the job ID to the below command. Once again, make sure the code deploys logs out the below location with the below file name structure as those will be inspected for the assessment."
   ]
  },
  {
   "cell_type": "code",
   "execution_count": null,
   "id": "6e584a73-c60d-43c0-bd6c-6c2a4725ae83",
   "metadata": {
    "scrolled": true,
    "tags": []
   },
   "outputs": [],
   "source": [
    "!JOB_ID=TODO_ENTER_JOB_ID;cat /dli/megatron/logs/$JOB_ID.out"
   ]
  },
  {
   "cell_type": "code",
   "execution_count": null,
   "id": "83fe2de0-5d66-4880-ab10-074bc896e1ae",
   "metadata": {},
   "outputs": [],
   "source": [
    "!JOB_ID=TODO_ENTER_JOB_ID;cat /dli/megatron/logs/$JOB_ID.err"
   ]
  },
  {
   "cell_type": "markdown",
   "id": "ee6cbe44-51ad-4411-8ef5-792075915855",
   "metadata": {},
   "source": [
    "Once you are happy with your code, please make sure the batch job is terminated before going to the next step."
   ]
  },
  {
   "cell_type": "code",
   "execution_count": null,
   "id": "3c2e59b2-a040-40e7-bb47-022eba1f15d3",
   "metadata": {},
   "outputs": [],
   "source": [
    "!squeue"
   ]
  },
  {
   "cell_type": "code",
   "execution_count": null,
   "id": "a98f6482-d538-4e28-b299-5bc0e3824cc3",
   "metadata": {},
   "outputs": [],
   "source": [
    "!scancel  #PASTE_JOB_ID_HERE"
   ]
  },
  {
   "cell_type": "markdown",
   "id": "1c18320d-6f90-41b5-93ea-b2c6afc36317",
   "metadata": {},
   "source": [
    "## Step 4: Further code improvement\n",
    "\n",
    "We are missing capability to do activation checkpointing. In this step, we will introduce code that will allow us to do activation checkpointing with DeepSpeed library.\n",
    "\n",
    "&nbsp; &nbsp; 1. Define the transformer blocks for activation checkpointing   \n",
    "&nbsp; &nbsp; 2. Create the DeepSeed configuration file enabeling activation checkpointing and FP16 training   \n",
    "&nbsp; &nbsp; 3. Create and run the sbatch training file  "
   ]
  },
  {
   "cell_type": "markdown",
   "id": "b7c1cd8f",
   "metadata": {},
   "source": [
    "### 1. Define the transformer blocks for activation checkpointing\n",
    "\n",
    "To enable activation checkpointing of a model (or part of the model) with DeepSpeed, at the forward pass definition, we need to wrap each block with the function `deepspeed.checkpointing.checkpoint()` ([learn more](https://deepspeed.readthedocs.io/en/stable/activation-checkpointing.html#deepspeed.checkpointing.checkpoint)). \n",
    "\n",
    "The example bellow shows a simple convolutional Network definition with 2 CNN blocks followed by a linear layer in which the CNN blocks are wrapped for activation checkpointing with DeepSpeed.\n",
    "\n",
    "```\n",
    "class CNN(nn.Module):\n",
    "    def __init__(self):\n",
    "        super().__init__()\n",
    "        self.cnn_block_1 = nn.Sequential(*[nn.Conv2d(3, 32, 3, padding=1),nn.ReLU(),nn.MaxPool2d(kernel_size=2)])\n",
    "        self.cnn_block_2 = nn.Sequential(*[nn.Conv2d(64, 64, 3, padding=1),nn.ReLU(),nn.MaxPool2d(kernel_size=2)])\n",
    "        self.flatten = lambda inp: torch.flatten(inp, 1)\n",
    "        self.linearize = nn.Sequential(*[ nn.Linear(64 * 8 * 8, 512),nn.ReLU()])\n",
    "        self.out = nn.Linear(512, 10)\n",
    "    \n",
    "    def forward(self, X):\n",
    "        X = deepspeed.checkpointing.checkpoint(self.cnn_block_1, X)\n",
    "        X = deepspeed.checkpointing.checkpoint(self.cnn_block_2, X)\n",
    "        X = self.flatten(X)\n",
    "        X = self.linearize(X)\n",
    "        X = self.out(X)\n",
    "        return X\n",
    "\n",
    "```\n",
    "A similar mechanism is implemented with torch via the function `torch.utils.checkpoint.checkpoint()`.\n",
    "\n",
    "\n",
    "In our case, the VisionTransformer model is implemented as the GPT class in the file `./minGPT/minGPT/mingpt/model.py`. \n",
    "\n",
    "**TODO:** Modify the \"Step 4 ToDo\" task in [model.py](./minGPT/minGPT/mingpt/model.py) file in order to make the transformer blocks wrapped by the DeepSpeed activation checkpointing. Replace `x = self.blocks(x)` with:\n",
    "```\n",
    "for block in self.blocks:\n",
    "    x = deepspeed.checkpointing.checkpoint(block, x)\n",
    "```\n"
   ]
  },
  {
   "cell_type": "markdown",
   "id": "3533ffd5",
   "metadata": {},
   "source": [
    "### 2. Create the DeepSeed configuration file\n",
    "\n",
    "Before starting, you can check the DeepSpeed documentation of the config-json file for the [activation-checkpointing.](https://www.deepspeed.ai/docs/config-json/#activation-checkpointing)\n",
    "\n",
    "Create the `ds_config_step4.json` by modifying the `#FIXME` in the cell bellow to:\n",
    "- Enable activation checkpointing\n",
    "- Make the micro batch size per GPU to 128 to make sure activation checkpointing is working well\n",
    "- Make the number of checkpoints to 12\n",
    "- Enable FP16 training\n",
    "\n"
   ]
  },
  {
   "cell_type": "code",
   "execution_count": null,
   "id": "0112af26",
   "metadata": {},
   "outputs": [],
   "source": [
    "%%writefile minGPT/minGPT/ds_config_step4.json\n",
    "{\n",
    "  \"train_micro_batch_size_per_gpu\": #FIXME,\n",
    "  \"optimizer\": {\n",
    "    \"type\": \"Adam\",\n",
    "    \"params\": {\n",
    "      \"lr\": 3e-4\n",
    "    }\n",
    "  },\n",
    "  \"gradient_clipping\": 1.0,\n",
    "  \"activation_checkpointing\": {\n",
    "    \"partition_activations\": #FIXME,\n",
    "    \"cpu_checkpointing\": #FIXME,\n",
    "    \"contiguous_memory_optimization\": #FIXME,\n",
    "    \"number_checkpoints\": 12,\n",
    "    \"synchronize_checkpoint_boundary\": #FIXME,\n",
    "    \"profile\": #FIXME\n",
    "    },\n",
    "  \"fp16\": {\n",
    "    \"enabled\": true\n",
    "  }\n",
    "}"
   ]
  },
  {
   "cell_type": "markdown",
   "id": "72f43cef",
   "metadata": {},
   "source": [
    "### 3. Run the sbatch training file\n",
    "\n",
    "\n",
    "Let's start by creating copies of the training python scripts `runFirstDeepSpeed.py`."
   ]
  },
  {
   "cell_type": "code",
   "execution_count": null,
   "id": "aa3bad5d",
   "metadata": {},
   "outputs": [],
   "source": [
    "!cp /dli/minGPT/minGPT/runFirstDeepSpeed.py /dli/minGPT/minGPT/runStep4.py"
   ]
  },
  {
   "cell_type": "markdown",
   "id": "af37d3a0",
   "metadata": {},
   "source": [
    "Let's now create the sbatch file `runSlurmStep4.sh`."
   ]
  },
  {
   "cell_type": "code",
   "execution_count": null,
   "id": "7efe061f",
   "metadata": {},
   "outputs": [],
   "source": [
    "%%writefile ./minGPT/minGPT/runSlurmStep4.sh\n",
    "#!/bin/bash\n",
    "#SBATCH --job-name=dli_assessment_step4\n",
    "#SBATCH --nodes=2\n",
    "#SBATCH --ntasks-per-node=1       \n",
    "#SBATCH --cpus-per-task=32 ### Number of threads per task (OMP threads)\n",
    "#SBATCH -o /dli/megatron/logs/%j.out\n",
    "#SBATCH -e /dli/megatron/logs/%j.err\n",
    "\n",
    "# Number of nodes\n",
    "NUM_NODES=2\n",
    "# Number of GPUs per node\n",
    "NUM_GPUS=2\n",
    "\n",
    "deepspeed --num_nodes=${NUM_NODES} --hostfile /dli/minGPT/minGPT/hostfile --num_gpus=${NUM_GPUS} /dli/minGPT/minGPT/runStep4.py \\\n",
    "    --deepspeed \\\n",
    "    --deepspeed_config /dli/minGPT/minGPT/ds_config_step4.json"
   ]
  },
  {
   "cell_type": "markdown",
   "id": "0cb16851",
   "metadata": {},
   "source": [
    "Once you have done the above, please run the with the below command to submit the training job to the slurm scheduler."
   ]
  },
  {
   "cell_type": "code",
   "execution_count": null,
   "id": "e8a10d38-9eda-41e2-bcce-8156caced370",
   "metadata": {},
   "outputs": [],
   "source": [
    "!sbatch /dli/minGPT/minGPT/runSlurmStep4.sh\n",
    "!squeue"
   ]
  },
  {
   "cell_type": "markdown",
   "id": "59e7261f-bd99-4cea-98b6-5be237aa3446",
   "metadata": {},
   "source": [
    "Verify the execution of your code using the below (you should see it progress despite the large batch size):"
   ]
  },
  {
   "cell_type": "code",
   "execution_count": null,
   "id": "0e3bf8a5-c6f8-4e16-89ea-b65cfc0aefe1",
   "metadata": {},
   "outputs": [],
   "source": [
    "!JOB_ID=TODO_ENTER_JOB_ID;cat /dli/megatron/logs/$JOB_ID.out"
   ]
  },
  {
   "cell_type": "code",
   "execution_count": null,
   "id": "7f84c360-9eb9-41aa-ab6c-b1eaec2add62",
   "metadata": {},
   "outputs": [],
   "source": [
    "!JOB_ID=TODO_ENTER_JOB_ID;cat /dli/megatron/logs/$JOB_ID.err"
   ]
  },
  {
   "cell_type": "markdown",
   "id": "817e2925-d6f1-456b-bfa9-dbec7325df58",
   "metadata": {},
   "source": [
    "Don't forget to cancel execution of your batch job once you are happy."
   ]
  },
  {
   "cell_type": "code",
   "execution_count": null,
   "id": "cefa60c4-e58f-435e-9960-64a8445308e9",
   "metadata": {},
   "outputs": [],
   "source": [
    "!squeue"
   ]
  },
  {
   "cell_type": "code",
   "execution_count": null,
   "id": "a5904dcb-3a59-43c4-8806-d5320324855b",
   "metadata": {},
   "outputs": [],
   "source": [
    "!scancel  #PASTE_JOB_ID_HERE"
   ]
  },
  {
   "cell_type": "markdown",
   "id": "f112d963",
   "metadata": {},
   "source": [
    "### Further optimization consideration \n",
    "All workers participating in the training process are generating the same output. Thus, the k-means is computed twice. \n",
    "It is possible to ajust the k-means implmentation to execute it just once and with a redistribution of the results across all of the workers. \n",
    "Bellow an example on how to do it:\n",
    "\n",
    "```import torch.distributed as dist\n",
    "def run_kmeans(x, ncluster, niter=8, rank, size):\n",
    "    print('KMeans executed on rank ', rank, ' Worlds size ', size)\n",
    "    N, D = x.size()\n",
    "    c = x[torch.randperm(N)[:ncluster]] # init clusters at random\n",
    "    c = c.cuda(args.local_rank) # move the tensor to the GPU for exchange\n",
    "    if rank == 0:\n",
    "        # Computing KMeans only on rank 0 \n",
    "        with torch.no_grad():\n",
    "            c = kmeans(x, ncluster, niter)\n",
    "    # We now have computed the clusters so can proceed to the exchange\n",
    "    dist.barrier()\n",
    "    print('Broadcasting')\n",
    "    dist.broadcast(C.cuda(args.local_rank), src=0)\n",
    "    c=c.cpu()\n",
    "    print('Rank ', rank, ' has data ', C.size())\n",
    "    return c\n",
    "\n",
    "C=run_kmeans(px, ncluster, niter=8, dist.get_rank(), dist.get_world_size())    \n",
    "```\n"
   ]
  },
  {
   "cell_type": "markdown",
   "id": "42e2bd1d-d375-4db3-815f-9ae64336805f",
   "metadata": {},
   "source": [
    "## Step 5: Scaling up\n",
    "\n",
    "Now that we have a minimal functional implemented, let's scale out the training job. In this part of the assessment, we will make the model substantially bigger. \n",
    "\n",
    "\n",
    "&nbsp; &nbsp; 1. Scale the model's architecture   \n",
    "&nbsp; &nbsp; 2. Create the DeepSeed configuration file enabeling activation checkpointing, FP16 training, ZeRO optimizer     \n",
    "&nbsp; &nbsp; 3. Create and run the sbatch training file  \n",
    "\n",
    "### 1. Scale the model's architecture\n",
    "Before modifying the training script, let's start by making a copy to be modified:"
   ]
  },
  {
   "cell_type": "code",
   "execution_count": null,
   "id": "5161b46d-16d2-4666-ba8a-a687d1912f93",
   "metadata": {},
   "outputs": [],
   "source": [
    "!cp /dli/minGPT/minGPT/runFirstDeepSpeed.py /dli/minGPT/minGPT/runStep5.py"
   ]
  },
  {
   "cell_type": "markdown",
   "id": "2e2d6341-5b42-4d1f-a6cd-365e0bb4fbbf",
   "metadata": {},
   "source": [
    "**TODO**: Adjust the number of layers of the VisionTransformers to **24** by modifying the [runStep5.py](./minGPT/minGPT/runStep5.py) on the \"GPTConfig\" section where the architecture of the neural network dimensions is defined as: \n",
    "```\n",
    "mconf = GPTConfig(train_dataset.vocab_size, train_dataset.block_size,\n",
    "                  embd_pdrop=0.0, resid_pdrop=0.0, attn_pdrop=0.0,\n",
    "                  n_layer=12, n_head=8, n_embd=256)\n",
    "```\n",
    "\n",
    "\n",
    "### 2. Create the DeepSeed configuration file enabling activation checkpointing, FP16 training, ZeRO optimizer\n",
    "\n",
    "Alter [ds_config_step5.json](./minGPT/minGPT/ds_config_step5.json) to reconfigure be enabling:\n",
    "- Gradient accumulation and execute 4 accumulation steps to increase the global batch size (which is frequently needed to maintain fixed hyperparameters).\n",
    "- Activation checkpointing to create 24 rather than 12 checkpoints\n",
    "- FP16 training\n",
    "- ZeRo Stage 3 optimizer with CPU offload for both parameters and optimizer states. Check the [ZeRO documentation](https://deepspeed.readthedocs.io/en/latest/zero3.html) for more details. \n",
    "\n",
    "**Hint:** Notebook 6 in Lab 1 has information on the ZeRo Stage 3 optimizer.\n"
   ]
  },
  {
   "cell_type": "code",
   "execution_count": null,
   "id": "64ce4ee5-52a3-4611-9438-242b1b2837b2",
   "metadata": {},
   "outputs": [],
   "source": [
    "%%writefile minGPT/minGPT/ds_config_step5.json\n",
    "{\n",
    "  \"train_micro_batch_size_per_gpu\": 128,\n",
    "  \"gradient_accumulation_steps\": #FIXME,\n",
    "  \"optimizer\": {\n",
    "    \"type\": \"Adam\",\n",
    "    \"params\": {\n",
    "      \"lr\": 3e-4\n",
    "    }\n",
    "  },\n",
    "  \"gradient_clipping\": 1.0,\n",
    "  \"activation_checkpointing\": {\n",
    "    \"partition_activations\": #FIXME,\n",
    "    \"cpu_checkpointing\": #FIXME,\n",
    "    \"contiguous_memory_optimization\": #FIXME,\n",
    "    \"number_checkpoints\": #FIXME,\n",
    "    \"synchronize_checkpoint_boundary\": #FIXME,\n",
    "    \"profile\": #FIXME\n",
    "    },\n",
    "   \"fp16\": {\n",
    "    \"enabled\": #FIXME\n",
    "    },\n",
    "    \"zero_optimization\": {\n",
    "    \"stage\": 3,\n",
    "    \"stage3_max_live_parameters\": #FIXME,\n",
    "    \"stage3_max_reuse_distance\": #FIXME,\n",
    "    \"stage3_prefetch_bucket_size\": #FIXME,\n",
    "    \"stage3_param_persitence_threshold\": #FIXME,\n",
    "    \"reduce_bucket_size\": #FIXME,\n",
    "    \"contiguous_gradients\": #FIXME,\n",
    "    \"offload_optimizer\": {\n",
    "        \"device\": \"cpu\"\n",
    "    },\n",
    "    \"offload_param\": {\n",
    "        \"device\": \"cpu\"\n",
    "    }\n",
    "  }\n",
    "}"
   ]
  },
  {
   "cell_type": "markdown",
   "id": "4338d1e4-5814-48b6-935f-10a111f8f76e",
   "metadata": {},
   "source": [
    "### 3. Create and run the sbatch training file \n",
    "Execute the next cell to generate the sbatch script for the step5 training. \n"
   ]
  },
  {
   "cell_type": "code",
   "execution_count": null,
   "id": "c5b9051e-1386-4aff-be66-d16d637f9377",
   "metadata": {},
   "outputs": [],
   "source": [
    "%%writefile ./minGPT/minGPT/runSlurmStep5.sh\n",
    "#!/bin/bash\n",
    "#SBATCH --job-name=dli_assessment_step5\n",
    "#SBATCH --nodes=2\n",
    "#SBATCH --ntasks-per-node=1       \n",
    "#SBATCH --cpus-per-task=32 ### Number of threads per task (OMP threads)\n",
    "#SBATCH -o /dli/megatron/logs/%j.out\n",
    "#SBATCH -e /dli/megatron/logs/%j.err\n",
    "\n",
    "# Number of nodes\n",
    "NUM_NODES=2\n",
    "# Number of GPUs per node\n",
    "NUM_GPUS=2\n",
    "\n",
    "deepspeed --num_nodes=${NUM_NODES} --hostfile /dli/minGPT/minGPT/hostfile --num_gpus=${NUM_GPUS} /dli/minGPT/minGPT/runStep5.py \\\n",
    "    --deepspeed \\\n",
    "    --deepspeed_config /dli/minGPT/minGPT/ds_config_step5.json"
   ]
  },
  {
   "cell_type": "markdown",
   "id": "c9a41a70-bc32-439c-a9f2-8a9faf70fe6f",
   "metadata": {},
   "source": [
    "Once you have made the above changes please execute your job with the below command:"
   ]
  },
  {
   "cell_type": "code",
   "execution_count": null,
   "id": "40801a02-10c5-4dd6-be57-ed2a5ad24516",
   "metadata": {},
   "outputs": [],
   "source": [
    "!sbatch /dli/minGPT/minGPT/runSlurmStep5.sh\n",
    "!squeue"
   ]
  },
  {
   "cell_type": "markdown",
   "id": "2fef1ba9-40e3-421d-b3d4-3bf9cb1350c9",
   "metadata": {},
   "source": [
    "Verify the execution of your code using the below:"
   ]
  },
  {
   "cell_type": "code",
   "execution_count": null,
   "id": "cb23a05d-cfe3-4049-b97b-c8370ed38799",
   "metadata": {},
   "outputs": [],
   "source": [
    "!JOB_ID=TODO_ENTER_JOB_ID;cat /dli/megatron/logs/$JOB_ID.out"
   ]
  },
  {
   "cell_type": "code",
   "execution_count": null,
   "id": "c41933e8-7789-495a-8b97-3be96ff8f99a",
   "metadata": {},
   "outputs": [],
   "source": [
    "!JOB_ID=TODO_ENTER_JOB_ID;cat /dli/megatron/logs/$JOB_ID.err"
   ]
  },
  {
   "cell_type": "markdown",
   "id": "1bae45e4-bef1-4394-b448-5162d9d4b8cb",
   "metadata": {},
   "source": [
    "Its really important that before you go to the next step you stop all of the executing and pending jobs or evaluation will faill!"
   ]
  },
  {
   "cell_type": "code",
   "execution_count": null,
   "id": "b15fb509-ab9e-4d39-95cd-28351033d830",
   "metadata": {},
   "outputs": [],
   "source": [
    "!squeue"
   ]
  },
  {
   "cell_type": "code",
   "execution_count": null,
   "id": "3d58077c-c4d4-46fa-b4c4-1d9442eb14c9",
   "metadata": {},
   "outputs": [],
   "source": [
    "!scancel  #PASTE_JOB_ID_HERE"
   ]
  },
  {
   "cell_type": "markdown",
   "id": "0a4db940-8ab3-4282-91c6-d631dfbf571a",
   "metadata": {},
   "source": [
    "## Step 6: Evaluate\n",
    "\n",
    "If you have implemented all of the changes listed above, please provide the job ID verified in Step 5 in the code block below. If the challenges were completed correctly, an \"Assessment Passed!\" message will appear. Good luck!"
   ]
  },
  {
   "cell_type": "code",
   "execution_count": null,
   "id": "b806b2b0-a877-4c02-a88b-e2cb944be111",
   "metadata": {},
   "outputs": [],
   "source": [
    "from run_assessment import run_assessment\n",
    "job_id = #PASTE_JOB_ID_HERE\n",
    "run_assessment(job_id)"
   ]
  },
  {
   "cell_type": "markdown",
   "id": "0c537006-d407-44b1-8741-1531bfc8609b",
   "metadata": {},
   "source": [
    "Once \"Assessment Passed!\" appears, please go back to the DLI portal and press the assess button. This will generate a certificate. Congratulations!"
   ]
  }
 ],
 "metadata": {
  "kernelspec": {
   "display_name": "Python 3 (ipykernel)",
   "language": "python",
   "name": "python3"
  },
  "language_info": {
   "codemirror_mode": {
    "name": "ipython",
    "version": 3
   },
   "file_extension": ".py",
   "mimetype": "text/x-python",
   "name": "python",
   "nbconvert_exporter": "python",
   "pygments_lexer": "ipython3",
   "version": "3.8.12"
  }
 },
 "nbformat": 4,
 "nbformat_minor": 5
}

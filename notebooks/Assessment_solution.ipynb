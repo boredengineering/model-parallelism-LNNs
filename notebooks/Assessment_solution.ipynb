{
 "cells": [
  {
   "cell_type": "markdown",
   "id": "8aa20420",
   "metadata": {},
   "source": [
    "<img src=\"./images/DLI_Header.png\" style=\"width: 400px;\">"
   ]
  },
  {
   "cell_type": "markdown",
   "id": "80b34e83",
   "metadata": {},
   "source": [
    "# Assessment\n",
    "\n",
    "## Overview\n",
    "\n",
    "The goal of this assessment is to evaluate your ability to build and execute large models. Please demonstrate that ability by porting an existing piece of code into DeepSpeed and creating a series of configuration files to enable a range of DeepSpeed functions including: activation checkpointing, mixed precision training as well as ZeRo redundancy optimizer. \n",
    "\n",
    "To make the task containable, we have deliberately selected a simplified codebase, namely minGPT (https://github.com/karpathy/minGPT). This is a minimalistic implementation of Transformers that will not provide maximum performance, but which is representative and should allow you to complete this coding exercise in a relatively short period of time.\n",
    "\n",
    "In this task, we will look at yet another family of models, namely, Vision Transformers. Before diving into the assignment, please review the [code example](minGPT/minGPT/play_image.ipynb) that we will be using in this assessment. Feel free to execute the above code example but do bear in mind that training to convergence will take a considerable amount of time, so it  might help to finish it early and focus on the code migration discussed below."
   ]
  },
  {
   "cell_type": "markdown",
   "id": "0e47c70c",
   "metadata": {},
   "source": [
    "## Introduction\n",
    "\n",
    "Conceptually, our goal will be to:\n",
    "- Migrate a standalone pytorch implementation of the training pipeline into DeepSpeed and train effectively on our \"two server\" cluster\n",
    "- Enable functionality that will allow for memory saving, namely: Mixed Precision Training, Activation Checkpointing and ZeRo Redundancy optimiser\n",
    "- Increase the size of the model being trained\n",
    "\n",
    "The below notebook will be a guide through the process and provide test code which will help determine whether you are on the right path to the correct solution. By the end of the assessment, when the code is complete, you will be asked to go back to the lab platform and press the `assess` button. This will trigger an automated process which will load your code files as well as the deepspeed configuration files and execute them, assessing correctness of the implementation. Please leave enough time to execute this step as it can take several minutes to compleate. If you are running out of time, please download the files you have modified so that they can be finished later."
   ]
  },
  {
   "cell_type": "code",
   "execution_count": null,
   "id": "7731c708",
   "metadata": {},
   "outputs": [],
   "source": [
    "# Display information CPUs\n",
    "!lscpu"
   ]
  },
  {
   "cell_type": "code",
   "execution_count": null,
   "id": "3b57b252",
   "metadata": {},
   "outputs": [],
   "source": [
    "# Check the number of CPU cores\n",
    "!grep 'cpu cores' /proc/cpuinfo | uniq"
   ]
  },
  {
   "cell_type": "code",
   "execution_count": null,
   "id": "658b5987",
   "metadata": {},
   "outputs": [],
   "source": [
    "# Display information about GPUs\n",
    "!nvidia-smi"
   ]
  },
  {
   "cell_type": "code",
   "execution_count": null,
   "id": "5e58360f",
   "metadata": {},
   "outputs": [],
   "source": [
    "# Check Interconnect Topology \n",
    "!nvidia-smi topo --matrix"
   ]
  },
  {
   "cell_type": "code",
   "execution_count": null,
   "id": "faf9f133",
   "metadata": {},
   "outputs": [],
   "source": [
    "# Check nvlink status\n",
    "!nvidia-smi nvlink --status"
   ]
  },
  {
   "cell_type": "code",
   "execution_count": null,
   "id": "639c058b",
   "metadata": {},
   "outputs": [],
   "source": [
    "# Check available resources in the cluster\n",
    "!sinfo"
   ]
  },
  {
   "cell_type": "markdown",
   "id": "d81b42b5",
   "metadata": {},
   "source": [
    "## Step 1: Baseline implementation\n",
    "\n",
    "Let us begin by looking at the starting point of our assessment, namely [runStartingPoint.py](./minGPT/minGPT/runStartingPoint.py). This is the same code that was reviewed earlier, just extracted into a python file to allow us for its batch execution. Let us test it to make sure it works in a standalone mode. Once again, training to convergence will take a substantial amount of time, so once you see training progress feel free to stop the training process and move to the next step."
   ]
  },
  {
   "cell_type": "code",
   "execution_count": 1,
   "id": "e21a21cf",
   "metadata": {
    "scrolled": true,
    "tags": []
   },
   "outputs": [
    {
     "name": "stdout",
     "output_type": "stream",
     "text": [
      "Downloading https://www.cs.toronto.edu/~kriz/cifar-10-python.tar.gz to ./cifar-10-python.tar.gz\n",
      "170499072it [00:03, 51570437.76it/s]                                            \n",
      "Extracting ./cifar-10-python.tar.gz to ./\n",
      "Files already downloaded and verified\n",
      "50000 10000\n",
      "done step 1/8, re-initialized 4 dead clusters\n",
      "done step 2/8, re-initialized 0 dead clusters\n",
      "done step 3/8, re-initialized 0 dead clusters\n",
      "done step 4/8, re-initialized 0 dead clusters\n",
      "done step 5/8, re-initialized 0 dead clusters\n",
      "done step 6/8, re-initialized 0 dead clusters\n",
      "done step 7/8, re-initialized 0 dead clusters\n",
      "done step 8/8, re-initialized 0 dead clusters\n",
      "11/01/2023 20:38:12 - INFO - mingpt.model -   number of parameters: 1.000166e+07\n",
      "  0%|                                                 | 0/50000 [00:00<?, ?it/s]/opt/conda/lib/python3.8/site-packages/torch/nn/parallel/_functions.py:68: UserWarning: Was asked to gather along dimension 0, but all input tensors were scalars; will instead unsqueeze and return a vector.\n",
      "  warnings.warn('Was asked to gather along dimension 0, but all '\n",
      "epoch 1 iter 49999: train loss 2.40597. lr 3.000000e-03: 100%|█| 50000/50000 [35\n",
      "epoch 2 iter 1551: train loss 1.39492. lr 2.992874e-03:   3%| | 1552/50000 [01:0^C\n",
      "epoch 2 iter 1551: train loss 1.39492. lr 2.992874e-03:   3%| | 1552/50000 [01:0\n",
      "Traceback (most recent call last):\n",
      "  File \"minGPT/minGPT/runStartingPoint.py\", line 71, in <module>\n",
      "    trainer.train()\n",
      "  File \"/dli/minGPT/minGPT/mingpt/trainer.py\", line 87, in train\n",
      "    run_epoch(train_loader, is_train=True)\n",
      "  File \"/dli/minGPT/minGPT/mingpt/trainer.py\", line 47, in run_epoch\n",
      "    logits, loss = model(x, y)\n",
      "  File \"/opt/conda/lib/python3.8/site-packages/torch/nn/modules/module.py\", line 1110, in _call_impl\n",
      "    return forward_call(*input, **kwargs)\n",
      "  File \"/opt/conda/lib/python3.8/site-packages/torch/nn/parallel/data_parallel.py\", line 169, in forward\n",
      "    return self.gather(outputs, self.output_device)\n",
      "  File \"/opt/conda/lib/python3.8/site-packages/torch/nn/parallel/data_parallel.py\", line 181, in gather\n",
      "    return gather(outputs, output_device, dim=self.dim)\n",
      "  File \"/opt/conda/lib/python3.8/site-packages/torch/nn/parallel/scatter_gather.py\", line 78, in gather\n",
      "    res = gather_map(outputs)\n",
      "  File \"/opt/conda/lib/python3.8/site-packages/torch/nn/parallel/scatter_gather.py\", line 73, in gather_map\n",
      "    return type(out)(map(gather_map, zip(*outputs)))\n",
      "  File \"/opt/conda/lib/python3.8/site-packages/torch/nn/parallel/scatter_gather.py\", line 63, in gather_map\n",
      "    return Gather.apply(target_device, dim, *outputs)\n",
      "KeyboardInterrupt\n",
      "Exception in thread Thread-4:\n",
      "Traceback (most recent call last):\n",
      "  File \"/opt/conda/lib/python3.8/threading.py\", line 932, in _bootstrap_inner\n",
      "    self.run()\n",
      "  File \"/opt/conda/lib/python3.8/threading.py\", line 870, in run\n",
      "    self._target(*self._args, **self._kwargs)\n",
      "  File \"/opt/conda/lib/python3.8/site-packages/torch/utils/data/_utils/pin_memory.py\", line 28, in _pin_memory_loop\n",
      "    r = in_queue.get(timeout=MP_STATUS_CHECK_INTERVAL)\n",
      "  File \"/opt/conda/lib/python3.8/multiprocessing/queues.py\", line 116, in get\n",
      "    return _ForkingPickler.loads(res)\n",
      "  File \"/opt/conda/lib/python3.8/site-packages/torch/multiprocessing/reductions.py\", line 295, in rebuild_storage_fd\n",
      "    fd = df.detach()\n",
      "  File \"/opt/conda/lib/python3.8/multiprocessing/resource_sharer.py\", line 58, in detach\n",
      "    return reduction.recv_handle(conn)\n",
      "  File \"/opt/conda/lib/python3.8/multiprocessing/reduction.py\", line 189, in recv_handle\n",
      "    return recvfds(s, 1)[0]\n",
      "  File \"/opt/conda/lib/python3.8/multiprocessing/reduction.py\", line 157, in recvfds\n",
      "    msg, ancdata, flags, addr = sock.recvmsg(1, socket.CMSG_SPACE(bytes_size))\n",
      "ConnectionResetError: [Errno 104] Connection reset by peer\n"
     ]
    }
   ],
   "source": [
    "!python minGPT/minGPT/runStartingPoint.py"
   ]
  },
  {
   "cell_type": "markdown",
   "id": "fd6abf75",
   "metadata": {},
   "source": [
    "## Step 2: Enabling DeepSpeed\n",
    "\n",
    "Let's start by adapting the previous training scripts to use the DeepSpeed library by making some minimalistic changes in the code. To do so, you will need to:\n",
    "\n",
    "&nbsp; &nbsp; 1.  Modify the relevant sections in [runFirstDeepSpeed.py](./minGPT/minGPT/runFirstDeepSpeed.py)   \n",
    "&nbsp; &nbsp; 2.  Modify the relevant sections in [trainer.py](./minGPT/minGPT/mingpt/trainer.py)   \n",
    "&nbsp; &nbsp; 3.  Create the DeepSpeed configuration file `ds_config_basic.json`   \n",
    "&nbsp; &nbsp; 4.  Run the training with `deepspeed` command\n",
    "\n",
    "\n",
    "### 1.  Modify the \"ToDo Step 2\" sections in the file `runFirstDeepSpeed.py`\n",
    "Open the file [runFirstDeepSpeed.py](./minGPT/minGPT/runFirstDeepSpeed.py) and define the \"ToDo Step 2\" sections to port the code on DeepSpeed. There are 4 sections to be defined.\n",
    "\n",
    "### 2.  Modify the \"ToDo Step 2\" sections in the `trainer.py`\n",
    "Open the file [trainer.py](./minGPT/minGPT/mingpt/trainer.py) and implement the `DeepSpeedTrainer` class by defining the \"ToDo Step 2\" sections. There are 6 sections to be modified/implemented."
   ]
  },
  {
   "cell_type": "markdown",
   "id": "77280b3e",
   "metadata": {},
   "source": [
    "### 3.  Create the DeepSpeed configuration file `ds_config_basic.json`\n",
    "In the next cell, change the `FIXME` to set:\n",
    "- The micro-batch size per gpu to 8\n",
    "- Make sure to enable Adam optimizer and copy the learning rate from the original code [runStartingPoint.py](./minGPT/minGPT/runStartingPoint.py)\n",
    "- Set the gradient clipping to the value used in the original code [runStartingPoint.py](./minGPT/minGPT/runStartingPoint.py)"
   ]
  },
  {
   "cell_type": "markdown",
   "id": "4f859170",
   "metadata": {},
   "source": [
    "%%writefile ./minGPT/minGPT/ds_config_basic.json\n",
    "{\n",
    "  \"train_micro_batch_size_per_gpu\": #FIXME,\n",
    "  \"optimizer\": {\n",
    "    \"type\": #FIXME,\n",
    "    \"params\": {\n",
    "      \"lr\": #FIXME\n",
    "    }\n",
    "  },\n",
    "  \"gradient_clipping\": #FIXME\n",
    "}"
   ]
  },
  {
   "cell_type": "code",
   "execution_count": null,
   "id": "29e09280",
   "metadata": {},
   "outputs": [],
   "source": [
    "%%writefile ./minGPT/minGPT/ds_config_basic.json\n",
    "{\n",
    "  \"train_micro_batch_size_per_gpu\": 8,\n",
    "  \"optimizer\": {\n",
    "    \"type\": \"Adam\",\n",
    "    \"params\": {\n",
    "      \"lr\": 3e-3\n",
    "    }\n",
    "  },\n",
    "  \"gradient_clipping\": 1.0\n",
    "}"
   ]
  },
  {
   "cell_type": "markdown",
   "id": "3b65a3f2",
   "metadata": {},
   "source": [
    "### 4.  Run the training with `deepspeed` command\n",
    "\n",
    "The following command should result in 4 GPU training and we should see the training progress. Once again, the goal of this exercise is not to train this model to convergence. Once you see training taking place, you can interrupt the execution and move to the next step."
   ]
  },
  {
   "cell_type": "code",
   "execution_count": null,
   "id": "cb9e6137",
   "metadata": {
    "scrolled": true,
    "tags": []
   },
   "outputs": [],
   "source": [
    "!deepspeed minGPT/minGPT/runFirstDeepSpeed.py --deepspeed --deepspeed_config minGPT/minGPT/ds_config_basic.json"
   ]
  },
  {
   "cell_type": "markdown",
   "id": "56b6756e",
   "metadata": {},
   "source": [
    "## Step 3: Multi node execution\n",
    "\n",
    "The above code executed on 4 GPUs for this particular node, but our goal is to make it work across the two nodes we have used earlier in the class. Please reuse the code we have worked with earlier to launch a two node job executing the above. Let us start by creating the appropriate shell script:"
   ]
  },
  {
   "cell_type": "code",
   "execution_count": null,
   "id": "ba0186dd",
   "metadata": {},
   "outputs": [],
   "source": [
    "%%writefile ./minGPT/minGPT/runSlurmStep3.sh\n",
    "#!/bin/bash\n",
    "#SBATCH --job-name=dli_assessment_step3\n",
    "#SBATCH --nodes=2\n",
    "#SBATCH --ntasks-per-node=1       \n",
    "#SBATCH --cpus-per-task=32 ### Number of threads per task (OMP threads)\n",
    "#SBATCH -o /dli/megatron/logs/%j.out\n",
    "#SBATCH -e /dli/megatron/logs/%j.err\n",
    "\n",
    "# Number of nodes\n",
    "NUM_NODES=#FIXEME\n",
    "# Number of GPUs per node\n",
    "NUM_GPUS=#FIXEME\n",
    "\n",
    "deepspeed --num_nodes=${NUM_NODES} --hostfile /dli/minGPT/minGPT/hostfile --num_gpus=${NUM_GPUS} /dli/minGPT/minGPT/runFirstDeepSpeed.py \\\n",
    "    --deepspeed \\\n",
    "    --deepspeed_config #FIXEME"
   ]
  },
  {
   "cell_type": "code",
   "execution_count": null,
   "id": "3b5afd95",
   "metadata": {},
   "outputs": [],
   "source": [
    "%%writefile ./minGPT/minGPT/runSlurmStep3.sh\n",
    "#!/bin/bash\n",
    "#SBATCH --job-name=dli_assessment_step3\n",
    "#SBATCH --nodes=2\n",
    "#SBATCH --ntasks-per-node=1       \n",
    "#SBATCH --cpus-per-task=32 ### Number of threads per task (OMP threads)\n",
    "#SBATCH -o /dli/megatron/logs/%j.out\n",
    "#SBATCH -e /dli/megatron/logs/%j.err\n",
    "\n",
    "# Number of nodes\n",
    "NUM_NODES=2\n",
    "# Number of GPUs per node\n",
    "NUM_GPUS=2\n",
    "\n",
    "deepspeed --num_nodes=${NUM_NODES} --hostfile /dli/minGPT/minGPT/hostfile --num_gpus=${NUM_GPUS} /dli/minGPT/minGPT/runFirstDeepSpeed.py \\\n",
    "    --deepspeed \\\n",
    "    --deepspeed_config minGPT/minGPT/ds_config_basic.json"
   ]
  },
  {
   "cell_type": "markdown",
   "id": "c2983db6",
   "metadata": {},
   "source": [
    "Please modify the below to enable multi-node execution. Please use the below command to execute your multi-node job (this is the command that will be used for assessment so do not change the file names or paths)."
   ]
  },
  {
   "cell_type": "code",
   "execution_count": 1,
   "id": "0058839d",
   "metadata": {},
   "outputs": [
    {
     "name": "stdout",
     "output_type": "stream",
     "text": [
      "Submitted batch job 19\n",
      "             JOBID PARTITION     NAME     USER ST       TIME  NODES NODELIST(REASON)\n",
      "                19  slurmpar dli_asse    admin  R       0:00      2 slurmnode[1-2]\n"
     ]
    }
   ],
   "source": [
    "!sbatch ./minGPT/minGPT/runSlurmStep3.sh\n",
    "!squeue"
   ]
  },
  {
   "cell_type": "markdown",
   "id": "5bfbd48c",
   "metadata": {},
   "source": [
    "Once the above executes, we should be able to see output and error logs with the commands below. Make sure to copy the job ID to the below command. Once again, make sure the code deploys logs out the below location with the below file name structure as those will be inspected for the assessment."
   ]
  },
  {
   "cell_type": "code",
   "execution_count": null,
   "id": "f86a4bc6",
   "metadata": {
    "scrolled": true,
    "tags": []
   },
   "outputs": [],
   "source": [
    "!JOB_ID=TODO_ENTER_JOB_ID;cat /dli/megatron/logs/$JOB_ID.out"
   ]
  },
  {
   "cell_type": "code",
   "execution_count": null,
   "metadata": {},
   "outputs": [],
   "source": [
    "# Example:\n",
    "!JOB_ID=2;cat /dli/megatron/logs/$JOB_ID.out"
   ]
  },
  {
   "cell_type": "code",
   "execution_count": null,
   "id": "89799cfc",
   "metadata": {},
   "outputs": [],
   "source": [
    "!JOB_ID=TODO_ENTER_JOB_ID;cat /dli/megatron/logs/$JOB_ID.err"
   ]
  },
  {
   "cell_type": "code",
   "execution_count": null,
   "metadata": {},
   "outputs": [],
   "source": [
    "#Example:\n",
    "!JOB_ID=2;cat /dli/megatron/logs/$JOB_ID.err"
   ]
  },
  {
   "cell_type": "markdown",
   "id": "979c7601",
   "metadata": {},
   "source": [
    "Once you are happy with your code, please make sure the batch job is terminated before going to the next step."
   ]
  },
  {
   "cell_type": "code",
   "execution_count": null,
   "id": "1fa9fc41",
   "metadata": {},
   "outputs": [],
   "source": [
    "!squeue"
   ]
  },
  {
   "cell_type": "code",
   "execution_count": null,
   "id": "427e6502",
   "metadata": {},
   "outputs": [],
   "source": [
    "!scancel  #PASTE_JOB_ID_HERE"
   ]
  },
  {
   "cell_type": "markdown",
   "id": "afc26ff4",
   "metadata": {},
   "source": [
    "## Step 4: Further code improvement\n",
    "\n",
    "We are missing capability to do activation checkpointing. In this step, we will introduce code that will allow us to do activation checkpointing with DeepSpeed library.\n",
    "\n",
    "&nbsp; &nbsp; 1. Define the transformer blocks for activation checkpointing   \n",
    "&nbsp; &nbsp; 2. Create the DeepSeed configuration file enabeling activation checkpointing and FP16 training   \n",
    "&nbsp; &nbsp; 3. Create and run the sbatch training file  "
   ]
  },
  {
   "cell_type": "markdown",
   "id": "c1a4128b",
   "metadata": {},
   "source": [
    "### 1. Define the transformer blocks for activation checkpointing\n",
    "\n",
    "To enable activation checkpointing of a model (or part of the model) with DeepSpeed, at the forward pass definition, we need to wrap each block with the function `deepspeed.checkpointing.checkpoint()` ([learn more](https://deepspeed.readthedocs.io/en/stable/activation-checkpointing.html#deepspeed.checkpointing.checkpoint)). \n",
    "\n",
    "The example bellow shows a simple convolutional Netowrk definition with 2 CNN blocks followed by a linear layer in which the CNN blocks are wrapped for activation checkpointing with DeepSpeed.\n",
    "\n",
    "```\n",
    "class CNN(nn.Module):\n",
    "    def __init__(self):\n",
    "        super().__init__()\n",
    "        self.cnn_block_1 = nn.Sequential(*[nn.Conv2d(3, 32, 3, padding=1),nn.ReLU(),nn.MaxPool2d(kernel_size=2)])\n",
    "        self.cnn_block_2 = nn.Sequential(*[nn.Conv2d(64, 64, 3, padding=1),nn.ReLU(),nn.MaxPool2d(kernel_size=2)])\n",
    "        self.flatten = lambda inp: torch.flatten(inp, 1)\n",
    "        self.linearize = nn.Sequential(*[ nn.Linear(64 * 8 * 8, 512),nn.ReLU()])\n",
    "        self.out = nn.Linear(512, 10)\n",
    "    \n",
    "    def forward(self, X):\n",
    "        X = deepspeed.checkpointing.checkpoint(self.cnn_block_1, X)\n",
    "        X = deepspeed.checkpointing.checkpoint(self.cnn_block_2, X)\n",
    "        X = self.flatten(X)\n",
    "        X = self.linearize(X)\n",
    "        X = self.out(X)\n",
    "        return X\n",
    "\n",
    "```\n",
    "A similar mechanism is implemented with torch via the function `torch.utils.checkpoint.checkpoint()`.\n",
    "\n",
    "\n",
    "In our case, the VisionTransformer model is implemented as the GPT class in the file `./minGPT/minGPT/mingpt/model.py`. You need to make the transformer blocks wrapped by the DeepSpeed activation checkpointing. Modify the \"Step 4 ToDo\" task in [model.py](./minGPT/minGPT/mingpt/model.py) file. \n"
   ]
  },
  {
   "cell_type": "markdown",
   "id": "1346ba35",
   "metadata": {},
   "source": [
    "### 2. Create the DeepSeed configuration file\n",
    "\n",
    "Before starting, you can check the DeepSpeed documentation of the config-json file for the [activation-checkpointing.](https://www.deepspeed.ai/docs/config-json/#activation-checkpointing)\n",
    "\n",
    "Create the `ds_config_step4.json` by modifying the `#FIXME` in the cell bellow to:\n",
    "- Enable activation checkpointing\n",
    "- Make the micro batch size per GPU to 128 to make sure activation checkpointing is working well\n",
    "- Make the number of checkpoints to 12\n",
    "- Enable FP16 training\n",
    "\n"
   ]
  },
  {
   "cell_type": "code",
   "execution_count": null,
   "id": "e691b0ec",
   "metadata": {},
   "outputs": [],
   "source": [
    "%%writefile minGPT/minGPT/ds_config_step4.json\n",
    "{\n",
    "  \"train_micro_batch_size_per_gpu\": #FIXME,\n",
    "  \"optimizer\": {\n",
    "    \"type\": \"Adam\",\n",
    "    \"params\": {\n",
    "      \"lr\": 3e-4\n",
    "    }\n",
    "  },\n",
    "  \"gradient_clipping\": 1.0,\n",
    "  \"activation_checkpointing\": {\n",
    "    \"partition_activations\": #FIXME,\n",
    "    \"cpu_checkpointing\": #FIXME,\n",
    "    \"contiguous_memory_optimization\": #FIXME,\n",
    "    \"number_checkpoints\": 12,\n",
    "    \"synchronize_checkpoint_boundary\": #FIXME,\n",
    "    \"profile\": #FIXME\n",
    "    },\n",
    "  \"fp16\": {\n",
    "    \"enabled\": true\n",
    "  }\n",
    "}"
   ]
  },
  {
   "cell_type": "code",
   "execution_count": null,
   "metadata": {},
   "outputs": [],
   "source": [
    "%%writefile minGPT/minGPT/ds_config_step4.json\n",
    "{\n",
    "  \"train_micro_batch_size_per_gpu\": 128,\n",
    "  \"optimizer\": {\n",
    "    \"type\": \"Adam\",\n",
    "    \"params\": {\n",
    "      \"lr\": 3e-4\n",
    "    }\n",
    "  },\n",
    "  \"gradient_clipping\": 1.0,\n",
    "  \"activation_checkpointing\": {\n",
    "    \"partition_activations\": false,\n",
    "    \"cpu_checkpointing\": false,\n",
    "    \"contiguous_memory_optimization\": false,\n",
    "    \"number_checkpoints\": 12,\n",
    "    \"synchronize_checkpoint_boundary\": false,\n",
    "    \"profile\": false\n",
    "    },\n",
    "  \"fp16\": {\n",
    "    \"enabled\": true\n",
    "  }\n",
    "}"
   ]
  },
  {
   "cell_type": "markdown",
   "id": "c8120fde",
   "metadata": {},
   "source": [
    "### 3. Run the sbatch training file\n",
    "\n",
    "\n",
    "Let's start by creating copies of the training python scripts `runFirstDeepSpeed.py`."
   ]
  },
  {
   "cell_type": "code",
   "execution_count": null,
   "id": "978e3d87",
   "metadata": {},
   "outputs": [],
   "source": [
    "!cp /dli/minGPT/minGPT/runFirstDeepSpeed.py /dli/minGPT/minGPT/runStep4.py"
   ]
  },
  {
   "cell_type": "markdown",
   "id": "1c392fe7",
   "metadata": {},
   "source": [
    "Let's now create the sbatch file `runSlurmStep4.sh`."
   ]
  },
  {
   "cell_type": "code",
   "execution_count": null,
   "id": "a7a78238",
   "metadata": {},
   "outputs": [],
   "source": [
    "%%writefile ./minGPT/minGPT/runSlurmStep4.sh\n",
    "#!/bin/bash\n",
    "#SBATCH --job-name=dli_assessment_step4\n",
    "#SBATCH --nodes=2\n",
    "#SBATCH --ntasks-per-node=1       \n",
    "#SBATCH --cpus-per-task=32 ### Number of threads per task (OMP threads)\n",
    "#SBATCH -o /dli/megatron/logs/%j.out\n",
    "#SBATCH -e /dli/megatron/logs/%j.err\n",
    "\n",
    "# Number of nodes\n",
    "NUM_NODES=2\n",
    "# Number of GPUs per node\n",
    "NUM_GPUS=2\n",
    "\n",
    "deepspeed --num_nodes=${NUM_NODES} --hostfile /dli/minGPT/minGPT/hostfile --num_gpus=${NUM_GPUS} /dli/minGPT/minGPT/runStep4.py \\\n",
    "    --deepspeed \\\n",
    "    --deepspeed_config /dli/minGPT/minGPT/ds_config_step4.json"
   ]
  },
  {
   "cell_type": "markdown",
   "id": "aaa58c72",
   "metadata": {},
   "source": [
    "Once you have done the above, please run the with the below command to submit the training job to the slurm scheduler."
   ]
  },
  {
   "cell_type": "code",
   "execution_count": null,
   "id": "0b824117",
   "metadata": {},
   "outputs": [],
   "source": [
    "!sbatch /dli/minGPT/minGPT/runSlurmStep4.sh\n",
    "!squeue"
   ]
  },
  {
   "cell_type": "markdown",
   "id": "7bb5befe",
   "metadata": {},
   "source": [
    "Verify the execution of your code using the below (you should see it progress despite the large batch size):"
   ]
  },
  {
   "cell_type": "code",
   "execution_count": null,
   "id": "41fa53fa",
   "metadata": {},
   "outputs": [],
   "source": [
    "!JOB_ID=TODO_ENTER_JOB_ID;cat /dli/megatron/logs/$JOB_ID.out"
   ]
  },
  {
   "cell_type": "code",
   "execution_count": null,
   "id": "ae7833a4",
   "metadata": {},
   "outputs": [],
   "source": [
    "!JOB_ID=TODO_ENTER_JOB_ID;cat /dli/megatron/logs/$JOB_ID.err"
   ]
  },
  {
   "cell_type": "markdown",
   "id": "5a9f9cff",
   "metadata": {},
   "source": [
    "Don't forget to cancel execution of your batch job once you are happy."
   ]
  },
  {
   "cell_type": "code",
   "execution_count": null,
   "id": "6c3feef7",
   "metadata": {},
   "outputs": [],
   "source": [
    "!squeue"
   ]
  },
  {
   "cell_type": "code",
   "execution_count": null,
   "id": "c7a65e25",
   "metadata": {},
   "outputs": [],
   "source": [
    "!scancel  #PASTE_JOB_ID_HERE"
   ]
  },
  {
   "cell_type": "markdown",
   "id": "8dcc39d4",
   "metadata": {},
   "source": [
    "### Further optimization consideration \n",
    "All workers participating in the training process are generating the same output. Thus, the k-means is computed twice. \n",
    "It is possible to ajust the k-means implmentation to execute it just once and with a redistribution of the results across all of the workers. \n",
    "Bellow an example on how to do it:\n",
    "\n",
    "```import torch.distributed as dist\n",
    "def run_kmeans(x, ncluster, niter=8, rank, size):\n",
    "    print('KMeans executed on rank ', rank, ' Worlds size ', size)\n",
    "    N, D = x.size()\n",
    "    c = x[torch.randperm(N)[:ncluster]] # init clusters at random\n",
    "    c = c.cuda(args.local_rank) # move the tensor to the GPU for exchange\n",
    "    if rank == 0:\n",
    "        # Computing KMeans only on rank 0 \n",
    "        with torch.no_grad():\n",
    "            c = kmeans(x, ncluster, niter)\n",
    "    # We now have computed the clusters so can proceed to the exchange\n",
    "    dist.barrier()\n",
    "    print('Broadcasting')\n",
    "    dist.broadcast(C.cuda(args.local_rank), src=0)\n",
    "    c=c.cpu()\n",
    "    print('Rank ', rank, ' has data ', C.size())\n",
    "    return c\n",
    "\n",
    "C=run_kmeans(px, ncluster, niter=8, dist.get_rank(), dist.get_world_size())    \n",
    "```\n"
   ]
  },
  {
   "cell_type": "markdown",
   "id": "bb62f72f",
   "metadata": {},
   "source": [
    "## Step 5: Scaling up\n",
    "\n",
    "Now that we have a minimal functional implemented, let's scale out the training job. In this part of the assessment, we will make the model substantially bigger. \n",
    "\n",
    "\n",
    "&nbsp; &nbsp; 1. Scale the model's architecture   \n",
    "&nbsp; &nbsp; 2. Create the DeepSeed configuration file enabeling activation checkpointing, FP16 training, ZeRO optimizer     \n",
    "&nbsp; &nbsp; 3. Create and run the sbatch training file  \n",
    "\n",
    "### 1. Scale the model's architecture\n",
    "Before modifying the training script, let's start by making a copy to be modified:"
   ]
  },
  {
   "cell_type": "code",
   "execution_count": null,
   "id": "5aae346a",
   "metadata": {},
   "outputs": [],
   "source": [
    "!cp /dli/minGPT/minGPT/runFirstDeepSpeed.py /dli/minGPT/minGPT/runStep5.py"
   ]
  },
  {
   "cell_type": "markdown",
   "id": "4509c7e8",
   "metadata": {},
   "source": [
    "Adjust the number of layers of the VisionTransformers to **24** by modifying the [runStep5.py](./minGPT/minGPT/runStep5.py) on the \"GPTConfig\" section where the architecture of the neural network dimensions is defined as: \n",
    "```\n",
    "mconf = GPTConfig(train_dataset.vocab_size, train_dataset.block_size,\n",
    "                  embd_pdrop=0.0, resid_pdrop=0.0, attn_pdrop=0.0,\n",
    "                  n_layer=12, n_head=8, n_embd=256)\n",
    "```\n",
    "\n",
    "\n",
    "### 2. Create the DeepSeed configuration file enabling activation checkpointing, FP16 training, ZeRO optimizer\n",
    "\n",
    "Alter [ds_config_step5.json](./minGPT/minGPT/ds_config_step5.json) to reconfigure be enabling:\n",
    "- Gradient accumulation and execute 4 accumulation steps to increase the global batch size (which is frequently needed to maintain fixed hyperparameters).\n",
    "- Activation checkpointing to create 24 rather than 12 checkpoints\n",
    "- FP16 training\n",
    "- ZeRo Stage 3 optimizer with CPU offload for both parameters and optimizer states. Check the [ZeRO documentation](https://deepspeed.readthedocs.io/en/latest/zero3.html) for more details. \n"
   ]
  },
  {
   "cell_type": "code",
   "execution_count": null,
   "id": "f4c18759",
   "metadata": {},
   "outputs": [],
   "source": [
    "%%writefile minGPT/minGPT/ds_config_step5.json\n",
    "{\n",
    "  \"train_micro_batch_size_per_gpu\": 128,\n",
    "  \"gradient_accumulation_steps\": #FIXME,\n",
    "  \"optimizer\": {\n",
    "    \"type\": \"Adam\",\n",
    "    \"params\": {\n",
    "      \"lr\": 3e-4\n",
    "    }\n",
    "  },\n",
    "  \"gradient_clipping\": 1.0,\n",
    "  \"activation_checkpointing\": {\n",
    "    \"partition_activations\": #FIXME,\n",
    "    \"cpu_checkpointing\": #FIXME,\n",
    "    \"contiguous_memory_optimization\": #FIXME,\n",
    "    \"number_checkpoints\": #FIXME,\n",
    "    \"synchronize_checkpoint_boundary\": #FIXME,\n",
    "    \"profile\": #FIXME\n",
    "    },\n",
    "   \"fp16\": {\n",
    "    \"enabled\": #FIXME\n",
    "    },\n",
    "    \"zero_optimization\": {\n",
    "    \"stage\": 3,\n",
    "    \"stage3_max_live_parameters\": #FIXME,\n",
    "    \"stage3_max_reuse_distance\": #FIXME,\n",
    "    \"stage3_prefetch_bucket_size\": #FIXME,\n",
    "    \"stage3_param_persitence_threshold\": #FIXME,\n",
    "    \"reduce_bucket_size\": #FIXME,\n",
    "    \"contiguous_gradients\": #FIXME,\n",
    "    \"offload_optimizer\": {\n",
    "        \"device\": \"cpu\"\n",
    "    },\n",
    "    \"offload_param\": {\n",
    "        \"device\": \"cpu\"\n",
    "    }\n",
    "  }\n",
    "}"
   ]
  },
  {
   "cell_type": "code",
   "execution_count": null,
   "metadata": {},
   "outputs": [],
   "source": [
    "%%writefile minGPT/minGPT/ds_config_step5.json\n",
    "{\n",
    "  \"train_micro_batch_size_per_gpu\": 128,\n",
    "  \"gradient_accumulation_steps\": 4,\n",
    "  \"optimizer\": {\n",
    "    \"type\": \"Adam\",\n",
    "    \"params\": {\n",
    "      \"lr\": 3e-4\n",
    "    }\n",
    "  },\n",
    "  \"gradient_clipping\": 1.0,\n",
    "  \"activation_checkpointing\": {\n",
    "    \"partition_activations\": false,\n",
    "    \"cpu_checkpointing\": false,\n",
    "    \"contiguous_memory_optimization\": false,\n",
    "    \"number_checkpoints\": 24,\n",
    "    \"synchronize_checkpoint_boundary\": false,\n",
    "    \"profile\": false\n",
    "    },\n",
    "   \"fp16\": {\n",
    "    \"enabled\": true\n",
    "    },\n",
    "    \"zero_optimization\": {\n",
    "    \"stage\": 3,\n",
    "    \"stage3_max_live_parameters\": 1000000000,\n",
    "    \"stage3_max_reuse_distance\": 1000000000,\n",
    "    \"stage3_prefetch_bucket_size\": 50000000,\n",
    "    \"stage3_param_persistence_threshold\": 100000,\n",
    "    \"reduce_bucket_size\": 500000000,\n",
    "    \"contiguous_gradients\": true,\n",
    "    \"offload_optimizer\": {\n",
    "        \"device\": \"cpu\"\n",
    "    },\n",
    "    \"offload_param\": {\n",
    "        \"device\": \"cpu\"\n",
    "    }\n",
    "  }\n",
    "}"
   ]
  },
  {
   "cell_type": "markdown",
   "id": "312d7df0",
   "metadata": {},
   "source": [
    "### 3. Create and run the sbatch training file \n",
    "Execute the next cell to generate the sbatch script for the step5 training. \n"
   ]
  },
  {
   "cell_type": "code",
   "execution_count": null,
   "id": "a392e6de",
   "metadata": {},
   "outputs": [],
   "source": [
    "%%writefile ./minGPT/minGPT/runSlurmStep5.sh\n",
    "#!/bin/bash\n",
    "#SBATCH --job-name=dli_assessment_step5\n",
    "#SBATCH --nodes=2\n",
    "#SBATCH --ntasks-per-node=1       \n",
    "#SBATCH --cpus-per-task=32 ### Number of threads per task (OMP threads)\n",
    "#SBATCH -o /dli/megatron/logs/%j.out\n",
    "#SBATCH -e /dli/megatron/logs/%j.err\n",
    "\n",
    "# Number of nodes\n",
    "NUM_NODES=2\n",
    "# Number of GPUs per node\n",
    "NUM_GPUS=2\n",
    "\n",
    "deepspeed --num_nodes=${NUM_NODES} --hostfile /dli/minGPT/minGPT/hostfile --num_gpus=${NUM_GPUS} /dli/minGPT/minGPT/runStep5.py \\\n",
    "    --deepspeed \\\n",
    "    --deepspeed_config /dli/minGPT/minGPT/ds_config_step5.json"
   ]
  },
  {
   "cell_type": "markdown",
   "id": "9c5f0bde",
   "metadata": {},
   "source": [
    "Once you have made the above changes please execute your job with the below command:"
   ]
  },
  {
   "cell_type": "code",
   "execution_count": null,
   "id": "9a9b906d",
   "metadata": {},
   "outputs": [],
   "source": [
    "!sbatch /dli/minGPT/minGPT/runSlurmStep5.sh\n",
    "!squeue"
   ]
  },
  {
   "cell_type": "markdown",
   "id": "337df2e9",
   "metadata": {},
   "source": [
    "Verify the execution of your code using the below:"
   ]
  },
  {
   "cell_type": "code",
   "execution_count": null,
   "id": "6d1d34aa",
   "metadata": {},
   "outputs": [],
   "source": [
    "!JOB_ID=TODO_ENTER_JOB_ID;cat /dli/megatron/logs/$JOB_ID.out"
   ]
  },
  {
   "cell_type": "code",
   "execution_count": null,
   "id": "b80c5317",
   "metadata": {},
   "outputs": [],
   "source": [
    "!JOB_ID=TODO_ENTER_JOB_ID;cat /dli/megatron/logs/$JOB_ID.err"
   ]
  },
  {
   "cell_type": "markdown",
   "id": "c9ab8c03",
   "metadata": {},
   "source": [
    "Its really important that before you go to the next step you stop all of the executing and pending jobs or evaluation will faill!"
   ]
  },
  {
   "cell_type": "code",
   "execution_count": null,
   "id": "c96c2821",
   "metadata": {},
   "outputs": [],
   "source": [
    "!squeue"
   ]
  },
  {
   "cell_type": "code",
   "execution_count": null,
   "id": "393cf1cd",
   "metadata": {},
   "outputs": [],
   "source": [
    "!scancel  #PASTE_JOB_ID_HERE"
   ]
  },
  {
   "cell_type": "markdown",
   "id": "a663038a",
   "metadata": {},
   "source": [
    "## Step 6: Evaluate\n",
    "\n",
    "If you have implemented all of the changes listed above, please provide the job ID verified in Step 5 in the code block below. If the challenges were completed correctly, an \"Assessment Passed!\" message will appear. Good luck!"
   ]
  },
  {
   "cell_type": "code",
   "execution_count": null,
   "id": "42144495",
   "metadata": {},
   "outputs": [],
   "source": [
    "from run_assessment import run_assessment\n",
    "job_id = #PASTE_JOB_ID_HERE\n",
    "run_assessment(job_id)"
   ]
  },
  {
   "cell_type": "markdown",
   "id": "6b5a848d",
   "metadata": {},
   "source": [
    "Once \"Assessment Passed!\" appears, please go back to the DLI portal and press the assess button. This will generate a certificate. Congratulations!"
   ]
  }
 ],
 "metadata": {
  "kernelspec": {
   "display_name": "Python 3 (ipykernel)",
   "language": "python",
   "name": "python3"
  },
  "language_info": {
   "codemirror_mode": {
    "name": "ipython",
    "version": 3
   },
   "file_extension": ".py",
   "mimetype": "text/x-python",
   "name": "python",
   "nbconvert_exporter": "python",
   "pygments_lexer": "ipython3",
   "version": "3.8.12"
  }
 },
 "nbformat": 4,
 "nbformat_minor": 5
}
